{
 "cells": [
  {
   "cell_type": "markdown",
   "id": "0396a9eb",
   "metadata": {},
   "source": [
    "<font color=pink size=20>检索</font>\n",
    "\n",
    "<font color=pink>1.打分指标:</font>添加MRR指标和recall指标，均针对页码\n",
    "\n",
    "<font color=pink>2.打分方法:</font>\n",
    "\n",
    "对页码：比对检索页码和正确页码是否匹配，原有recall指标基础上添加MRR指标\n",
    "\n",
    "<font color=pink>3.不同的检索方法</font>\n",
    "\n",
    "    3.1 简单检索\n",
    "\n",
    "    3.2混合检索：使用BM25+embedding混合检索,  效果较好\n",
    "\n",
    "    3.3 多查询检索：采用多套提示词，先对问题进行分类再定向选择提示词从而生成多个问题去查询检索（并行），recall效果好，mrr效果太差\n",
    "\n",
    "\n",
    "<font color=pink size=20>问答链</font>\n",
    "\n",
    "<font color=pink>1.上下文压缩：</font>\n",
    "\n",
    "    1.1  进行效率优化：直接压缩检索结果 + 多线程（并行处理）——>输出添加压缩结果的json文件\n",
    "\n",
    "    1.2  问答链：读取压缩后的json文件 -> 遍历每个问题 ->问答链+提示词 —> 输出的答案写入json文件\n",
    "\n",
    "    1.3  采用抽样的方法测试问答链，使用的QA对是之前的\n",
    "\n",
    "<font color=pink size=20>计划</font>\n",
    "\n",
    "    1.是否可以采用的抽样方式进行检索-压缩-生成？抽样\n",
    "\n",
    "    2.生成部分的答案质量评估，与标准答案进行比对，采用什么指标？recall\n",
    "\n",
    "    3.多查询修改提示词——生成多套问题——去重返回的文档以后输出\n",
    "\n",
    "    4.生成部分添加评分的，并且对比不压缩和压缩的分数。\n"
   ]
  }
 ],
 "metadata": {
  "language_info": {
   "name": "python"
  }
 },
 "nbformat": 4,
 "nbformat_minor": 5
}

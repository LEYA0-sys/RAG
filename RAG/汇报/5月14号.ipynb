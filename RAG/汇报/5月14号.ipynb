{
 "cells": [
  {
   "cell_type": "markdown",
   "id": "3a19ba47",
   "metadata": {},
   "source": [
    "<font color=pink size=50>增强检索</font>\n",
    "\n",
    "<font color=blue size=20>进行打分</font>\n",
    "\n",
    "1.简单检索——并且分别对L2距离以及余弦相似度进行打分，结果并不理想\n",
    "\n",
    "最优结果：  \n",
    "\n",
    "L2距离分数:0.85\n",
    "\n",
    "余弦相似度：0.5\n",
    "\n",
    "\n",
    "<font color=blue size=20>没有进行打分</font>\n",
    "\n",
    "2.上下文压缩——添加压缩器，对最初返回的文档迭代压缩，筛选掉冗余部分；且对于相同的k值，每次生成的答案不完全相同\n",
    "\n",
    "3.多查询检索——无提示词版本：借助llm针对question生成衍生的问题，再根据衍生的问题进行查询\n",
    "\n",
    "4.多查询检索——有提示词版本：给llm提供提示词，其余与上面步骤相同\n",
    "\n",
    "5.尝试将上下文压缩与多检索查询结合：肉眼看效果比前面的好\n",
    "\n",
    "法一：先创建压缩检索器->多检索查询器里嵌入；\n",
    "\n",
    "法二：与上面相反\n",
    "\n",
    "<font color=blue size=20>效果不够明显</font>\n",
    "\n",
    "6.过滤器\n",
    "\n",
    "\n",
    "7.串联压缩器和文档转换器\n",
    "\n",
    "<font color=pink size=50>卡点：评估检索</font>"
   ]
  }
 ],
 "metadata": {
  "language_info": {
   "name": "python"
  }
 },
 "nbformat": 4,
 "nbformat_minor": 5
}

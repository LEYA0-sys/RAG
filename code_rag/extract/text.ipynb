{
 "cells": [
  {
   "cell_type": "code",
   "execution_count": 2,
   "id": "1b2b0b72",
   "metadata": {},
   "outputs": [],
   "source": [
    "import PyPDF2\n",
    "def extract_text_from_pdf(pdf_path):\n",
    "    with open(pdf_path, 'rb') as file:\n",
    "        reader = PyPDF2.PdfReader(file)\n",
    "        text = ''\n",
    "        for page in range(len(reader.pages)):\n",
    "            text += reader.pages[page].extract_text()\n",
    "    return text\n",
    "extracted_pypdf=extract_text_from_pdf(r\"D:\\desktop\\宏利 pdf 文件\\文本_表格\\电子行政运作手册_保单行政_2023_10.pdf\")\n",
    "with open(r'1.txt', 'w',encoding='utf-8') as file:\n",
    "    file.write(extracted_pypdf)"
   ]
  },
  {
   "cell_type": "code",
   "execution_count": null,
   "id": "11215cc7",
   "metadata": {},
   "outputs": [],
   "source": [
    "import tabula\n",
    " \n",
    "# 读取本地PDF中的所有页面至DataFrame\n",
    "df = tabula.read_pdf(r\"D:\\desktop\\宏利 pdf 文件\\文本_表格\\电子行政运作手册_保单行政_2023_10.pdf\", pages=\"all\",errors='ignore')\n",
    "\n",
    "tabula.convert_into(r\"D:\\desktop\\宏利 pdf 文件\\文本_表格\\电子行政运作手册_保单行政_2023_10.pdf\", \"output.csv\", output_format=\"csv\", pages=\"all\")"
   ]
  },
  {
   "cell_type": "code",
   "execution_count": 17,
   "id": "9533fe36",
   "metadata": {},
   "outputs": [
    {
     "data": {
      "text/html": [
       "<div>\n",
       "<style scoped>\n",
       "    .dataframe tbody tr th:only-of-type {\n",
       "        vertical-align: middle;\n",
       "    }\n",
       "\n",
       "    .dataframe tbody tr th {\n",
       "        vertical-align: top;\n",
       "    }\n",
       "\n",
       "    .dataframe thead tr th {\n",
       "        text-align: left;\n",
       "    }\n",
       "</style>\n",
       "<table border=\"1\" class=\"dataframe\">\n",
       "  <thead>\n",
       "    <tr>\n",
       "      <th></th>\n",
       "      <th>日期</th>\n",
       "      <th>章節</th>\n",
       "      <th>內容修訂簡要</th>\n",
       "    </tr>\n",
       "    <tr>\n",
       "      <th></th>\n",
       "      <th>2023年10月</th>\n",
       "      <th>所有</th>\n",
       "      <th>新版修訂</th>\n",
       "    </tr>\n",
       "  </thead>\n",
       "  <tbody>\n",
       "  </tbody>\n",
       "</table>\n",
       "</div>"
      ],
      "text/plain": [
       "Empty DataFrame\n",
       "Columns: [(日期, 2023年10月), (章節, 所有), (內容修訂簡要, 新版修訂)]\n",
       "Index: []"
      ]
     },
     "execution_count": 17,
     "metadata": {},
     "output_type": "execute_result"
    }
   ],
   "source": [
    "import pdfplumber\n",
    "import pandas as pd\n",
    "\n",
    "pdf = pdfplumber.open(r\"D:\\desktop\\宏利 pdf 文件\\文本_表格\\电子行政运作手册_保单行政_2023_10.pdf\") \n",
    "# 第二页pdfplumber.Page实例\n",
    "first_page = pdf.pages[1]\n",
    " \n",
    "# 自动读取表格信息，返回列表\n",
    "table = first_page.extract_tables()\n",
    " \n",
    "# 将列表转为df\n",
    "table_df = pd.DataFrame(table[1:], columns=table[0])\n",
    "table_df\n"
   ]
  },
  {
   "cell_type": "code",
   "execution_count": 20,
   "id": "36dbfb97",
   "metadata": {},
   "outputs": [],
   "source": [
    "import pdfplumber\n",
    "import pandas as pd\n",
    "\n",
    "pdf_path = r\"D:\\desktop\\宏利 pdf 文件\\文本_表格\\电子行政运作手册_保单行政_2023_10.pdf\"\n",
    "output_csv = r\"tables.csv\"\n",
    "\n",
    "all_tables = []\n",
    "\n",
    "with pdfplumber.open(pdf_path) as pdf:\n",
    "    with open(output_csv, mode='w', encoding='utf-8', newline='') as writer:\n",
    "        for i, page in enumerate(pdf.pages):\n",
    "            tables = page.extract_tables()\n",
    "            if tables:\n",
    "                for j, table in enumerate(tables):\n",
    "                    df = pd.DataFrame(table)\n",
    "                    df.to_csv(writer, index=False, header=False, mode='a')\n",
    "                    all_tables.append((i + 1, j + 1))\n"
   ]
  },
  {
   "cell_type": "code",
   "execution_count": 31,
   "id": "7dc5d971",
   "metadata": {},
   "outputs": [],
   "source": [
    "import fitz\n",
    "import os\n",
    "pdf_path=r\"D:\\desktop\\宏利 pdf 文件\\彩页\\宏摯傳承保障計劃_产品彩页.pdf\"\n",
    "doc=fitz.open(pdf_path)\n",
    "img=doc[2].get_images(full=True)\n",
    "for i in img:\n",
    "    xref=i[0]\n",
    "    base_image=doc.extract_image(xref)\n",
    "    image_bytes=base_image[\"image\"]\n",
    "    image_ext=base_image[\"ext\"]\n",
    "    image_name=f\"page_{0+1}_img_{xref}.{image_ext}\"\n",
    "    with open(image_name,\"wb\") as f:\n",
    "        f.write(image_bytes)"
   ]
  },
  {
   "cell_type": "code",
   "execution_count": null,
   "id": "c28ba916",
   "metadata": {},
   "outputs": [],
   "source": [
    "from PyPDF2 import PdfReader\n",
    "\n",
    "reader = PdfReader(\"D:\\desktop\\宏利 pdf 文件\\纯文本\\宏利環球貨幣保障計劃 保單條款_2022_05.pdf\")\n",
    "for i, page in enumerate(reader.pages):\n",
    "    # 检查CropBox是否存在\n",
    "    crop_box = page.get(\"/CropBox\")\n",
    "    if crop_box:\n",
    "        print(f\"Page {i+1}: CropBox = {crop_box}\")\n",
    "    else:\n",
    "        print(f\"Page {i+1}: CropBox未定义，默认使用MediaBox: {page.mediabox}\")"
   ]
  }
 ],
 "metadata": {
  "kernelspec": {
   "display_name": "Test2",
   "language": "python",
   "name": "python3"
  },
  "language_info": {
   "codemirror_mode": {
    "name": "ipython",
    "version": 3
   },
   "file_extension": ".py",
   "mimetype": "text/x-python",
   "name": "python",
   "nbconvert_exporter": "python",
   "pygments_lexer": "ipython3",
   "version": "3.12.9"
  }
 },
 "nbformat": 4,
 "nbformat_minor": 5
}

{
 "cells": [
  {
   "cell_type": "markdown",
   "id": "f0d7f8d5",
   "metadata": {},
   "source": [
    "### 提取文本_表格文件里的图片"
   ]
  },
  {
   "cell_type": "code",
   "execution_count": 1,
   "id": "f6905fa7",
   "metadata": {},
   "outputs": [],
   "source": [
    "import fitz  # PyMuPDF\n",
    "\n",
    "pdf = fitz.open(r\"D:\\desktop\\宏利 pdf 文件\\文本_表格\\电子行政运作手册_保单行政_2023_10.pdf\")\n",
    "page = pdf.load_page(5)\n",
    "images = page.get_images()  # 获取页面所有图像\n",
    "for img_index, img in enumerate(images):\n",
    "    xref = img[0]\n",
    "    base_image = pdf.extract_image(xref)\n",
    "    with open(f\"D:\\desktop\\宏利 pdf 文件\\文本_表格\\chart_{5}_{img_index}.png\", \"wb\") as f:\n",
    "        f.write(base_image[\"image\"])  # 保存为PNG"
   ]
  },
  {
   "cell_type": "code",
   "execution_count": null,
   "id": "2c907fc3",
   "metadata": {},
   "outputs": [],
   "source": [
    "##图1\n",
    "from paddleocr import PPStructure, save_structure_res\n",
    "import cv2\n",
    "import os\n",
    "import pandas as pd\n",
    "table_engine = PPStructure(layout=True, show_log=True)\n",
    "\n",
    "img_path = r\"D:\\desktop\\code\\chart_5_2.png\"\n",
    "img = cv2.imread(img_path)\n",
    "\n",
    "result = table_engine(img)\n",
    "\n",
    "# for line in result:\n",
    "#     print(line)\n",
    "\n",
    "table_data = []\n",
    "for line in result:\n",
    "    if 'res' in line:\n",
    "        for cell in line['res']:\n",
    "            table_data.append([cell['text']])\n",
    "\n",
    "df = pd.DataFrame(table_data)\n",
    "df.to_excel(\"D:\\desktop\\宏利 pdf 文件\\文本_表格\\chart1.xlsx\", index=False)"
   ]
  },
  {
   "cell_type": "code",
   "execution_count": 1,
   "id": "62afbd25",
   "metadata": {},
   "outputs": [
    {
     "name": "stdout",
     "output_type": "stream",
     "text": [
      "tensor([1., 2.])\n"
     ]
    }
   ],
   "source": [
    "import torch\n",
    "\n",
    "x = torch.tensor([1.0, 2.0])\n",
    "print(x)\n"
   ]
  },
  {
   "cell_type": "code",
   "execution_count": 1,
   "id": "dc4fc7ea",
   "metadata": {},
   "outputs": [
    {
     "name": "stderr",
     "output_type": "stream",
     "text": [
      "d:\\naconda\\envs\\ocr\\lib\\site-packages\\paddle\\utils\\cpp_extension\\extension_utils.py:711: UserWarning: No ccache found. Please be aware that recompiling all source files may be required. You can download and install ccache from: https://github.com/ccache/ccache/blob/master/doc/INSTALL.md\n",
      "  warnings.warn(warning_message)\n"
     ]
    },
    {
     "name": "stdout",
     "output_type": "stream",
     "text": [
      "Running verify PaddlePaddle program ... \n",
      "PaddlePaddle works well on 1 CPU.\n",
      "PaddlePaddle is installed successfully! Let's start deep learning with PaddlePaddle now.\n"
     ]
    }
   ],
   "source": [
    "import paddle\n",
    "paddle.utils.run_check()\n"
   ]
  },
  {
   "cell_type": "code",
   "execution_count": 3,
   "id": "3a88f99b",
   "metadata": {},
   "outputs": [
    {
     "name": "stdout",
     "output_type": "stream",
     "text": [
      "[2025/04/09 22:13:51] ppocr DEBUG: Namespace(help='==SUPPRESS==', use_gpu=False, use_xpu=False, use_npu=False, use_mlu=False, use_gcu=False, ir_optim=True, use_tensorrt=False, min_subgraph_size=15, precision='fp32', gpu_mem=500, gpu_id=0, image_dir=None, page_num=0, det_algorithm='DB', det_model_dir='C:\\\\Users\\\\36325/.paddleocr/whl\\\\det\\\\ch\\\\ch_PP-OCRv4_det_infer', det_limit_side_len=960, det_limit_type='max', det_box_type='quad', det_db_thresh=0.3, det_db_box_thresh=0.6, det_db_unclip_ratio=1.5, max_batch_size=10, use_dilation=False, det_db_score_mode='fast', det_east_score_thresh=0.8, det_east_cover_thresh=0.1, det_east_nms_thresh=0.2, det_sast_score_thresh=0.5, det_sast_nms_thresh=0.2, det_pse_thresh=0, det_pse_box_thresh=0.85, det_pse_min_area=16, det_pse_scale=1, scales=[8, 16, 32], alpha=1.0, beta=1.0, fourier_degree=5, rec_algorithm='SVTR_LCNet', rec_model_dir='C:\\\\Users\\\\36325/.paddleocr/whl\\\\rec\\\\ch\\\\ch_PP-OCRv4_rec_infer', rec_image_inverse=True, rec_image_shape='3, 48, 320', rec_batch_num=6, max_text_length=25, rec_char_dict_path='d:\\\\naconda\\\\envs\\\\ocr\\\\lib\\\\site-packages\\\\paddleocr\\\\ppocr\\\\utils\\\\ppocr_keys_v1.txt', use_space_char=True, vis_font_path='./doc/fonts/simfang.ttf', drop_score=0.5, e2e_algorithm='PGNet', e2e_model_dir=None, e2e_limit_side_len=768, e2e_limit_type='max', e2e_pgnet_score_thresh=0.5, e2e_char_dict_path='./ppocr/utils/ic15_dict.txt', e2e_pgnet_valid_set='totaltext', e2e_pgnet_mode='fast', use_angle_cls=False, cls_model_dir=None, cls_image_shape='3, 48, 192', label_list=['0', '180'], cls_batch_num=6, cls_thresh=0.9, enable_mkldnn=False, cpu_threads=10, use_pdserving=False, warmup=False, sr_model_dir=None, sr_image_shape='3, 32, 128', sr_batch_num=1, draw_img_save_dir='./inference_results', save_crop_res=False, crop_res_save_dir='./output', use_mp=False, total_process_num=1, process_id=0, benchmark=False, save_log_path='./log_output/', show_log=True, use_onnx=False, onnx_providers=False, onnx_sess_options=False, return_word_box=False, output='./output', table_max_len=488, table_algorithm='TableAttn', table_model_dir='C:\\\\Users\\\\36325/.paddleocr/whl\\\\table\\\\ch_ppstructure_mobile_v2.0_SLANet_infer', merge_no_span_structure=True, table_char_dict_path='d:\\\\naconda\\\\envs\\\\ocr\\\\lib\\\\site-packages\\\\paddleocr\\\\ppocr\\\\utils\\\\dict\\\\table_structure_dict_ch.txt', formula_algorithm='LaTeXOCR', formula_model_dir='C:\\\\Users\\\\36325/.paddleocr/whl\\\\formula\\\\rec_latex_ocr_infer', formula_char_dict_path='d:\\\\naconda\\\\envs\\\\ocr\\\\lib\\\\site-packages\\\\paddleocr\\\\ppocr\\\\utils\\\\dict\\\\latex_ocr_tokenizer.json', formula_batch_num=1, layout_model_dir='C:\\\\Users\\\\36325/.paddleocr/whl\\\\layout\\\\picodet_lcnet_x1_0_fgd_layout_cdla_infer', layout_dict_path='d:\\\\naconda\\\\envs\\\\ocr\\\\lib\\\\site-packages\\\\paddleocr\\\\ppocr\\\\utils\\\\dict\\\\layout_dict\\\\layout_cdla_dict.txt', layout_score_threshold=0.5, layout_nms_threshold=0.5, kie_algorithm='LayoutXLM', ser_model_dir=None, re_model_dir=None, use_visual_backbone=True, ser_dict_path='../train_data/XFUND/class_list_xfun.txt', ocr_order_method=None, mode='structure', image_orientation=False, layout=True, table=True, formula=False, ocr=True, recovery=False, recovery_to_markdown=False, use_pdf2docx_api=False, invert=False, binarize=False, alphacolor=(255, 255, 255), lang='ch', det=True, rec=True, type='ocr', savefile=False, ocr_version='PP-OCRv4', structure_version='PP-StructureV2')\n",
      "[2025/04/09 22:13:53] ppocr DEBUG: dt_boxes num : 22, elapsed : 0.0937199592590332\n",
      "[2025/04/09 22:13:55] ppocr DEBUG: rec_res num  : 22, elapsed : 1.2334086894989014\n",
      "[2025/04/09 22:13:55] ppocr DEBUG: dt_boxes num : 22, elapse : 0.03089118003845215\n",
      "[2025/04/09 22:13:56] ppocr DEBUG: rec_res num  : 22, elapse : 0.8342816829681396\n"
     ]
    }
   ],
   "source": [
    "from paddleocr import PPStructure, save_structure_res\n",
    "import cv2\n",
    "import os\n",
    "import pandas as pd\n",
    "import re\n",
    "table_engine = PPStructure(layout=True, show_log=True)\n",
    "\n",
    "img_path = r\"D:\\desktop\\code\\chart_5_3.png\"\n",
    "img = cv2.imread(img_path)\n",
    "\n",
    "result = table_engine(img)\n",
    "\n",
    "# for line in result:\n",
    "#     print(line)\n",
    "table_data = []\n",
    "# 使用正则表达式从HTML中提取文本\n",
    "for line in result:\n",
    "    if 'res' in line and isinstance(line['res'], dict):\n",
    "        if 'html' in line['res']:\n",
    "            html_content = line['res']['html']\n",
    "            # 提取所有<td>或<th>标签中的内容\n",
    "            cell_texts = re.findall(r'<t[dh][^>]*>(.*?)</t[dh]>', html_content)\n",
    "            for cell_text in cell_texts:\n",
    "                if cell_text.strip():\n",
    "                    table_data.append([cell_text.strip()])\n",
    "\n",
    "df = pd.DataFrame(table_data)\n",
    "df.to_excel(r\"D:\\desktop\\宏利 pdf 文件\\文本_表格\\chart1.xlsx\", index=False)"
   ]
  },
  {
   "cell_type": "markdown",
   "id": "47b26fca",
   "metadata": {},
   "source": [
    "### 提取彩页"
   ]
  },
  {
   "cell_type": "code",
   "execution_count": 18,
   "id": "e7efeba6",
   "metadata": {},
   "outputs": [],
   "source": [
    "import fitz  # PyMuPDF\n",
    "\n",
    "def extract_text_from_color_pages(input_pdf, output_txt):\n",
    "    doc = fitz.open(input_pdf)\n",
    "    with open(output_txt, \"w\", encoding=\"utf-8\") as f:\n",
    "        for page_num in range(len(doc)):\n",
    "            page = doc.load_page(page_num)\n",
    "            pix = page.get_pixmap()\n",
    "            if pix.colorspace.n != 1:  # 检查是否为非灰度（彩色）\n",
    "                text = page.get_text()\n",
    "                if text.strip():  # 确保提取的文本非空\n",
    "                    f.write(f\"Page {page_num + 1}:\\n{text}\\n\\n\")\n",
    "\n",
    "# 调用函数\n",
    "extract_text_from_color_pages(\n",
    "    r\"D:\\desktop\\宏利 pdf 文件\\彩页\\宏摯傳承保障計劃_产品彩页.pdf\",\n",
    "    r\"D:\\desktop\\宏利 pdf 文件\\彩页\\宏摯傳承保障計劃_产品彩页.txt\"\n",
    ")"
   ]
  },
  {
   "cell_type": "code",
   "execution_count": 20,
   "id": "9706cfef",
   "metadata": {},
   "outputs": [],
   "source": [
    "# 使用 PyMuPDF 提取并按段落整理\n",
    "# 可以通过 PyMuPDF 的 get_text(\"blocks\") 方法提取文本块，并按顺序整理。\n",
    "import fitz  # PyMuPDF\n",
    "from zhconv import convert\n",
    "def extract_and_clean_text(input_pdf, output_txt):\n",
    "    doc = fitz.open(input_pdf)\n",
    "    with open(output_txt, \"w\", encoding=\"utf-8\") as f:\n",
    "        for page in doc:\n",
    "            page_dict = page.get_text(\"dict\")\n",
    "            lines_all = []\n",
    "            for block in page_dict[\"blocks\"]:\n",
    "                for line in block.get(\"lines\", []):\n",
    "                    line_text = \"\".join(span[\"text\"] for span in line[\"spans\"]).strip()\n",
    "                    line_text = convert(line_text, 'zh-hans')\n",
    "                    if line_text:\n",
    "                        lines_all.append((line[\"bbox\"][1], line_text))  # 用 Y 坐标排序\n",
    "\n",
    "            lines_all.sort(key=lambda x: x[0])  # 按 Y 排序\n",
    "            for _, line_text in lines_all:\n",
    "                f.write(line_text + \"\\n\")\n",
    "            f.write(\"\\n\")\n",
    "\n",
    "# 调用函数\n",
    "extract_and_clean_text(\n",
    "    r\"D:\\desktop\\宏利 pdf 文件\\彩页\\宏摯傳承保障計劃_产品彩页.pdf\",\n",
    "    r\"D:\\desktop\\宏利 pdf 文件\\彩页\\宏摯傳承保障計劃_产品彩页2.txt\"\n",
    ")"
   ]
  },
  {
   "cell_type": "code",
   "execution_count": 22,
   "id": "2d1e885f",
   "metadata": {},
   "outputs": [
    {
     "name": "stderr",
     "output_type": "stream",
     "text": [
      "[2025-04-09 11:52:47,153] [ WARNING] backend.py:56 - Failed to import jpype dependencies. Fallback to subprocess.\n",
      "[2025-04-09 11:52:47,168] [ WARNING] backend.py:59 - No module named 'jpype'\n"
     ]
    }
   ],
   "source": [
    "import tabula\n",
    "tabula.convert_into(r\"D:\\desktop\\宏利 pdf 文件\\彩页\\宏摯傳承保障計劃_产品彩页.pdf\", \"./output/彩页.json\", output_format=\"json\", pages='all')"
   ]
  },
  {
   "cell_type": "code",
   "execution_count": 23,
   "id": "8b502660",
   "metadata": {},
   "outputs": [],
   "source": [
    "import tabula\n",
    "tabula.convert_into(r\"D:\\desktop\\宏利 pdf 文件\\彩页\\宏摯傳承保障計劃_产品彩页.pdf\", \"./output/彩页.csv\", output_format=\"csv\", pages='all')"
   ]
  }
 ],
 "metadata": {
  "kernelspec": {
   "display_name": "ocr",
   "language": "python",
   "name": "python3"
  },
  "language_info": {
   "codemirror_mode": {
    "name": "ipython",
    "version": 3
   },
   "file_extension": ".py",
   "mimetype": "text/x-python",
   "name": "python",
   "nbconvert_exporter": "python",
   "pygments_lexer": "ipython3",
   "version": "3.9.21"
  }
 },
 "nbformat": 4,
 "nbformat_minor": 5
}

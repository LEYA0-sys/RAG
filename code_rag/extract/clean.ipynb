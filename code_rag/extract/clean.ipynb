{
 "cells": [
  {
   "cell_type": "markdown",
   "id": "e9668339",
   "metadata": {},
   "source": [
    "### 数据清洗"
   ]
  },
  {
   "cell_type": "code",
   "execution_count": null,
   "id": "bedc4be3",
   "metadata": {},
   "outputs": [],
   "source": [
    "with open(r\"D:\\desktop\\宏利 pdf 文件\\纯文本\\保單條款_2022_05(pdfplumber).txt\",\"r\",encoding=\"utf-8\") as f:\n",
    "    #lines = f.readlines()\n",
    "    text = f.read()\n",
    "if text.startswith('\\ufeff'):##去除文件开头的 BOM\n",
    "    # BOM (Byte Order Mark) 是 UTF-8 编码文件的一个特殊字符，表示文件的编码格式\n",
    "    text = text[1:]"
   ]
  },
  {
   "cell_type": "code",
   "execution_count": 12,
   "id": "80bac79b",
   "metadata": {},
   "outputs": [],
   "source": [
    "import re\n",
    "import os\n",
    "with open(r\"D:\\desktop\\宏利 pdf 文件\\纯文本\\保單條款_2022_05(pdfplumber).txt\", \"r\", encoding=\"utf-8\") as f:\n",
    "    text = f.read()\n",
    "# 匹配“备注...”和紧跟其后的编号\n",
    "pattern = r\"\"\"备注︰此简体中文本只供参考用途，并非保单之一部分，亦不构成对任何条款之诠译或赋予任何条款之涵义。\\s*\\d{1,2}-[A-Z]+(?:-[A-Z]+)* \\(\\d{2}/\\d{4}\\)\"\"\"\n",
    "cleaned_text = re.sub(pattern, '', text)\n",
    "cleaned_text = re.sub(r'\\s*此页为空白页\\s*', '', cleaned_text)\n",
    "# 清理所有可能多余的空行\n",
    "cleaned_text = re.sub(r'\\n{3,}', '\\n\\n', cleaned_text)\n",
    "save_folder = 'clean'\n",
    "os.makedirs(save_folder, exist_ok=True)\n",
    "with open(\"./clean/保單條款_2022_05.txt\", \"w\", encoding=\"utf-8\") as f:\n",
    "    f.write(cleaned_text)"
   ]
  },
  {
   "cell_type": "code",
   "execution_count": null,
   "id": "4dd18cf7",
   "metadata": {},
   "outputs": [],
   "source": []
  },
  {
   "cell_type": "code",
   "execution_count": 2,
   "id": "ff2abd3d",
   "metadata": {},
   "outputs": [
    {
     "ename": "ModuleNotFoundError",
     "evalue": "No module named 'magic_pdf.pipe'",
     "output_type": "error",
     "traceback": [
      "\u001b[1;31m---------------------------------------------------------------------------\u001b[0m",
      "\u001b[1;31mModuleNotFoundError\u001b[0m                       Traceback (most recent call last)",
      "Cell \u001b[1;32mIn[2], line 4\u001b[0m\n\u001b[0;32m      1\u001b[0m \u001b[38;5;28;01mimport\u001b[39;00m\u001b[38;5;250m \u001b[39m\u001b[38;5;21;01mos\u001b[39;00m\n\u001b[0;32m      3\u001b[0m \u001b[38;5;28;01mfrom\u001b[39;00m\u001b[38;5;250m \u001b[39m\u001b[38;5;21;01mloguru\u001b[39;00m\u001b[38;5;250m \u001b[39m\u001b[38;5;28;01mimport\u001b[39;00m logger\n\u001b[1;32m----> 4\u001b[0m \u001b[38;5;28;01mfrom\u001b[39;00m\u001b[38;5;250m \u001b[39m\u001b[38;5;21;01mmagic_pdf\u001b[39;00m\u001b[38;5;21;01m.\u001b[39;00m\u001b[38;5;21;01mpipe\u001b[39;00m\u001b[38;5;21;01m.\u001b[39;00m\u001b[38;5;21;01mUNIPipe\u001b[39;00m\u001b[38;5;250m \u001b[39m\u001b[38;5;28;01mimport\u001b[39;00m UNIPipe\n\u001b[0;32m      5\u001b[0m \u001b[38;5;28;01mfrom\u001b[39;00m\u001b[38;5;250m \u001b[39m\u001b[38;5;21;01mmagic_pdf\u001b[39;00m\u001b[38;5;21;01m.\u001b[39;00m\u001b[38;5;21;01mrw\u001b[39;00m\u001b[38;5;21;01m.\u001b[39;00m\u001b[38;5;21;01mDiskReaderWriter\u001b[39;00m\u001b[38;5;250m \u001b[39m\u001b[38;5;28;01mimport\u001b[39;00m DiskReaderWriter\n\u001b[0;32m      7\u001b[0m pdf_name \u001b[38;5;241m=\u001b[39m \u001b[38;5;124m'\u001b[39m\u001b[38;5;124m2024全球经济金融展望报告\u001b[39m\u001b[38;5;124m'\u001b[39m\n",
      "\u001b[1;31mModuleNotFoundError\u001b[0m: No module named 'magic_pdf.pipe'"
     ]
    }
   ],
   "source": [
    "import os\n",
    "\n",
    "from loguru import logger\n",
    "from magic_pdf.pipe.UNIPipe import UNIPipe\n",
    "from magic_pdf.rw.DiskReaderWriter import DiskReaderWriter\n",
    "\n",
    "pdf_name = '2024全球经济金融展望报告'\n",
    "pdf_path = os.path.join('data', \"D:\\desktop\\宏利 pdf 文件\\纯文本\\宏利環球貨幣保障計劃 保單條款_2022_05.pdf\")\n",
    "output_dir = os.path.join('data', pdf_name)\n",
    "if not os.path.exists(output_dir):\n",
    "    os.makedirs(output_dir, exist_ok=True)\n",
    "local_image_dir = os.path.join(output_dir, 'images')\n",
    "output_filename = os.path.join(output_dir, pdf_name)\n",
    "\n",
    "if os.path.exists(output_filename + \".md\"):\n",
    "    logger.info(\"The preprocessing result already exists.\")\n",
    "\n",
    "try:\n",
    "    pdf_bytes = open(pdf_path, \"rb\").read()\n",
    "    jso_useful_key = {\"_pdf_type\": \"\", \"model_list\": []}\n",
    "    image_dir = str(os.path.basename(local_image_dir))\n",
    "    image_writer = DiskReaderWriter(local_image_dir)\n",
    "    pipe = UNIPipe(pdf_bytes, jso_useful_key, image_writer)\n",
    "    pipe.pipe_classify()\n",
    "    pipe.pipe_analyze()\n",
    "    pipe.pipe_parse()\n",
    "    md_content = pipe.pipe_mk_markdown(image_dir, drop_mode=\"none\")\n",
    "    with open(f\"{output_filename}.md\", \"w\", encoding=\"utf-8\") as f:\n",
    "        f.write(md_content)\n",
    "except Exception as e:\n",
    "    logger.error(e)"
   ]
  }
 ],
 "metadata": {
  "kernelspec": {
   "display_name": "MinerU",
   "language": "python",
   "name": "python3"
  },
  "language_info": {
   "codemirror_mode": {
    "name": "ipython",
    "version": 3
   },
   "file_extension": ".py",
   "mimetype": "text/x-python",
   "name": "python",
   "nbconvert_exporter": "python",
   "pygments_lexer": "ipython3",
   "version": "3.10.16"
  }
 },
 "nbformat": 4,
 "nbformat_minor": 5
}

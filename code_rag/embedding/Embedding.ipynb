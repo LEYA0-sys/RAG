{
 "cells": [
  {
   "cell_type": "markdown",
   "id": "52ede1a8",
   "metadata": {},
   "source": [
    "### FlagEmbedding"
   ]
  },
  {
   "cell_type": "code",
   "execution_count": 6,
   "id": "aaf7a38a",
   "metadata": {},
   "outputs": [],
   "source": [
    "from FlagEmbedding import FlagAutoModel\n",
    "\n",
    "model = FlagAutoModel.from_finetuned('BAAI/bge-base-en-v1.5',\n",
    "                                      query_instruction_for_retrieval=\"Represent this sentence for searching relevant passages:\",\n",
    "                                      use_fp16=True)"
   ]
  },
  {
   "cell_type": "code",
   "execution_count": null,
   "id": "5813b08b",
   "metadata": {},
   "outputs": [
    {
     "name": "stderr",
     "output_type": "stream",
     "text": [
      "You're using a BertTokenizerFast tokenizer. Please note that with a fast tokenizer, using the `__call__` method is faster than using a method to encode the text followed by a call to the `pad` method to get a padded encoding.\n"
     ]
    }
   ],
   "source": [
    "sentences_1 = [\"I love NLP\", \"I love machine learning\"]\n",
    "sentences_2 = [\"I love BGE\", \"I love text retrieval\"]\n",
    "embeddings_1 = model.encode(sentences_1)\n",
    "embeddings_2 = model.encode(sentences_2)\n",
    "similarity = embeddings_1 @ embeddings_2.T\n",
    "print(similarity)"
   ]
  },
  {
   "cell_type": "code",
   "execution_count": 1,
   "id": "686f2484",
   "metadata": {},
   "outputs": [
    {
     "name": "stderr",
     "output_type": "stream",
     "text": [
      "d:\\naconda\\envs\\ocr\\lib\\site-packages\\tqdm\\auto.py:21: TqdmWarning: IProgress not found. Please update jupyter and ipywidgets. See https://ipywidgets.readthedocs.io/en/stable/user_install.html\n",
      "  from .autonotebook import tqdm as notebook_tqdm\n",
      "You're using a BertTokenizerFast tokenizer. Please note that with a fast tokenizer, using the `__call__` method is faster than using a method to encode the text followed by a call to the `pad` method to get a padded encoding.\n"
     ]
    },
    {
     "name": "stdout",
     "output_type": "stream",
     "text": [
      "[[0.62978095 0.43070096]\n",
      " [0.44024277 0.7314134 ]]\n",
      "[[0.6212836  0.4161198 ]\n",
      " [0.44911343 0.74316585]]\n"
     ]
    }
   ],
   "source": [
    "from FlagEmbedding import FlagAutoModel\n",
    "sentences_1 = [\"今天的医保怎么报销？\", \"怎么交养老保险？\"]\n",
    "sentences_2 = [\"医保报销流程说明\", \"养老保险缴费指南\"]\n",
    "model = FlagAutoModel.from_finetuned('BAAI/bge-large-zh-v1.5',\n",
    "                                     query_instruction_for_retrieval=\"为这个句子生成表示以用于检索相关文章：\",\n",
    "                                     use_fp16=True\n",
    "                                     ) \n",
    "embeddings_1 = model.encode(sentences_1)\n",
    "embeddings_2 = model.encode(sentences_2)\n",
    "similarity = embeddings_1 @ embeddings_2.T\n",
    "print(similarity)\n",
    "\n",
    "# for s2p(short query to long passage) retrieval task, suggest to use encode_queries() which will automatically add the instruction to each query\n",
    "# corpus in retrieval task can still use encode_corpus(), since they don't need instruction\n",
    "queries = [\"今天的医保怎么报销？\", \"怎么交养老保险？\"]\n",
    "passages = [\"医保报销流程说明\", \"养老保险缴费指南\"]\n",
    "q_embeddings = model.encode_queries(queries)\n",
    "p_embeddings = model.encode_corpus(passages) \n",
    "scores = q_embeddings @ p_embeddings.T       \n",
    "print(scores)"
   ]
  },
  {
   "cell_type": "markdown",
   "id": "1e7a0b9a",
   "metadata": {},
   "source": [
    "### SentenceTransformer"
   ]
  },
  {
   "cell_type": "code",
   "execution_count": 3,
   "id": "62dc9b98",
   "metadata": {},
   "outputs": [
    {
     "data": {
      "text/plain": [
       "array([[0.33725077, 0.20507815],\n",
       "       [0.22591075, 0.3849578 ]], dtype=float32)"
      ]
     },
     "execution_count": 3,
     "metadata": {},
     "output_type": "execute_result"
    }
   ],
   "source": [
    "from sentence_transformers import SentenceTransformer\n",
    "queries = ['query_1', 'query_2']\n",
    "passages = [\"样例文档-1\", \"样例文档-2\"]\n",
    "instruction = \"为这个句子生成表示以用于检索相关文章：\"\n",
    "\n",
    "model = SentenceTransformer('BAAI/bge-large-zh-v1.5')\n",
    "q_embeddings = model.encode([instruction+q for q in queries], normalize_embeddings=True)\n",
    "p_embeddings = model.encode(passages, normalize_embeddings=True)\n",
    "scores = q_embeddings @ p_embeddings.T\n",
    "scores"
   ]
  },
  {
   "cell_type": "markdown",
   "id": "cd8d6a6b",
   "metadata": {},
   "source": [
    "### langchain"
   ]
  },
  {
   "cell_type": "code",
   "execution_count": null,
   "id": "80cfd68b",
   "metadata": {},
   "outputs": [],
   "source": [
    "from langchain.embeddings import HuggingFaceBgeEmbeddings\n",
    "model_name = \"BAAI/bge-large-en-v1.5\"\n",
    "model_kwargs = {'device': 'cpu'}\n",
    "encode_kwargs = {'normalize_embeddings': True}\n",
    "model = HuggingFaceBgeEmbeddings(\n",
    "    model_name=model_name,\n",
    "    model_kwargs=model_kwargs,\n",
    "    encode_kwargs=encode_kwargs,\n",
    "    query_instruction=\"为这个句子生成表示以用于检索相关文章：\"\n",
    ")\n",
    "model.query_instruction = \"为这个句子生成表示以用于检索相关文章：\""
   ]
  },
  {
   "cell_type": "markdown",
   "id": "12816c71",
   "metadata": {},
   "source": [
    "### HuggingFace Transformers"
   ]
  },
  {
   "cell_type": "code",
   "execution_count": null,
   "id": "e8dc3f1f",
   "metadata": {},
   "outputs": [
    {
     "name": "stderr",
     "output_type": "stream",
     "text": [
      "Asking to truncate to max_length but no maximum length is provided and the model has no predefined maximum length. Default to no truncation.\n"
     ]
    },
    {
     "name": "stdout",
     "output_type": "stream",
     "text": [
      "Sentence embeddings: tensor([[ 0.0015,  0.0165, -0.0281,  ..., -0.0309,  0.0297, -0.0327],\n",
      "        [ 0.0151,  0.0041, -0.0157,  ..., -0.0281,  0.0408, -0.0251]])\n"
     ]
    }
   ],
   "source": [
    "from transformers import AutoTokenizer, AutoModel\n",
    "import torch\n",
    "# Sentences we want sentence embeddings for\n",
    "sentences = [\"样例数据-1\", \"样例数据-2\"]\n",
    "\n",
    "# Load model\n",
    "tokenizer = AutoTokenizer.from_pretrained('BAAI/bge-large-zh-v1.5')\n",
    "model = AutoModel.from_pretrained('BAAI/bge-large-zh-v1.5')\n",
    "model.eval()\n",
    "\n",
    "# Tokenize sentences\n",
    "encoded_input = tokenizer(sentences, padding=True, truncation=True, return_tensors='pt')\n",
    "# for s2p(short query to long passage) retrieval task, add an instruction to query (not add instruction for passages)\n",
    "# encoded_input = tokenizer([instruction + q for q in queries], padding=True, truncation=True, return_tensors='pt')\n",
    "\n",
    "# Compute token embeddings\n",
    "with torch.no_grad():\n",
    "    model_output = model(**encoded_input)\n",
    "    # Perform pooling cls pooling\n",
    "    sentence_embeddings = model_output[0][:, 0]\n",
    "# normalize embeddings\n",
    "sentence_embeddings = torch.nn.functional.normalize(sentence_embeddings, p=2, dim=1)\n",
    "print(\"Sentence embeddings:\", sentence_embeddings)\n"
   ]
  },
  {
   "cell_type": "code",
   "execution_count": null,
   "id": "01ba2c52",
   "metadata": {},
   "outputs": [
    {
     "name": "stderr",
     "output_type": "stream",
     "text": [
      "d:\\naconda\\envs\\ocr\\lib\\site-packages\\huggingface_hub\\file_download.py:144: UserWarning: `huggingface_hub` cache-system uses symlinks by default to efficiently store duplicated files but your machine does not support them in C:\\Users\\36325\\.cache\\huggingface\\hub\\models--BAAI--bge-base-zh-v1.5. Caching files will still work but in a degraded version that might require more space on your disk. This warning can be disabled by setting the `HF_HUB_DISABLE_SYMLINKS_WARNING` environment variable. For more details, see https://huggingface.co/docs/huggingface_hub/how-to-cache#limitations.\n",
      "To support symlinks on Windows, you either need to activate Developer Mode or to run Python as an administrator. In order to activate developer mode, see this article: https://docs.microsoft.com/en-us/windows/apps/get-started/enable-your-device-for-development\n",
      "  warnings.warn(message)\n"
     ]
    },
    {
     "name": "stdout",
     "output_type": "stream",
     "text": [
      "用户查询: 保险怎么报销？\n",
      "Top 1: 如何申请保险理赔？，相似度：0.7128\n",
      "Top 2: 医疗保险的报销范围是什么？，相似度：0.6986\n",
      "Top 3: 车险理赔流程有哪些步骤？，相似度：0.6433\n"
     ]
    }
   ],
   "source": [
    "from sentence_transformers import SentenceTransformer\n",
    "import faiss\n",
    "import numpy as np\n",
    "\n",
    "# 加载 BGE 模型\n",
    "model = SentenceTransformer(\"BAAI/bge-base-zh-v1.5\")\n",
    "\n",
    "docs = [\n",
    "    \"如何申请保险理赔？\",\n",
    "    \"车险理赔流程有哪些步骤？\",\n",
    "    \"医疗保险的报销范围是什么？\",\n",
    "    \"我丢了保单还能理赔吗？\"\n",
    "]\n",
    "\n",
    "# 嵌入这些文档为向量\n",
    "doc_embeddings = model.encode(docs, normalize_embeddings=True)\n",
    "\n",
    "# 创建 FAISS 索引\n",
    "dimension = doc_embeddings.shape[1]  \n",
    "index = faiss.IndexFlatIP(dimension)  # Inner Product（点积）+ 归一化 = 余弦相似度\n",
    "index.add(np.array(doc_embeddings))\n",
    "\n",
    "# 模拟用户查询\n",
    "query = \"保险怎么报销？\"\n",
    "query_embedding = model.encode([query], normalize_embeddings=True)\n",
    "\n",
    "# 在 FAISS 中检索相似文档\n",
    "top_k = 3\n",
    "scores, indices = index.search(np.array(query_embedding), top_k)\n",
    "\n",
    "print(\"用户查询:\", query)\n",
    "for i, idx in enumerate(indices[0]):\n",
    "    print(f\"Top {i+1}: {docs[idx]}，相似度：{scores[0][i]:.4f}\")\n"
   ]
  }
 ],
 "metadata": {
  "kernelspec": {
   "display_name": "ocr",
   "language": "python",
   "name": "python3"
  },
  "language_info": {
   "codemirror_mode": {
    "name": "ipython",
    "version": 3
   },
   "file_extension": ".py",
   "mimetype": "text/x-python",
   "name": "python",
   "nbconvert_exporter": "python",
   "pygments_lexer": "ipython3",
   "version": "3.9.21"
  }
 },
 "nbformat": 4,
 "nbformat_minor": 5
}

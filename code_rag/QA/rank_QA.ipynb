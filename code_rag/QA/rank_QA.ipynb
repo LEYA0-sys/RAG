{
 "cells": [
  {
   "cell_type": "code",
   "execution_count": 1,
   "id": "0f48b099",
   "metadata": {},
   "outputs": [
    {
     "name": "stderr",
     "output_type": "stream",
     "text": [
      "评分进度: 100%|██████████| 97/97 [12:11<00:00,  7.54s/对]"
     ]
    },
    {
     "name": "stdout",
     "output_type": "stream",
     "text": [
      "所有问答评分已完成，结果保存在： qa_scored.json\n"
     ]
    },
    {
     "name": "stderr",
     "output_type": "stream",
     "text": [
      "\n"
     ]
    }
   ],
   "source": [
    "import json\n",
    "import requests\n",
    "import time\n",
    "from tqdm import tqdm\n",
    "\n",
    "API_KEY = \"2a2299dd95944956b69397a89113d5a7.GW5jR7NYhANOuGES\"  # 替换为你的 API Key\n",
    "API_URL = \"https://open.bigmodel.cn/api/paas/v4/chat/completions\"\n",
    "HEADERS = {\n",
    "    \"Content-Type\": \"application/json\",\n",
    "    \"Authorization\": f\"Bearer {API_KEY}\"\n",
    "}\n",
    "\n",
    "def build_prompt(question, answer):\n",
    "    return f\"\"\"\n",
    "你是一位保险领域的资深专家，请对以下问答对进行评分，满分为5分。\n",
    "\n",
    "【问题】：{question}\n",
    "【回答】：{answer}\n",
    "\n",
    "请你评估以下几个方面：\n",
    "1. 回答是否准确反映文档内容（准确性）；\n",
    "2. 回答是否完整涵盖要点（完整性）；\n",
    "3. 回答是否清晰易懂（清晰度）；\n",
    "\n",
    "请按以下格式回答：\n",
    "分数：X.X\n",
    "评语：......\n",
    "\"\"\"\n",
    "\n",
    "def score_qa_pair(question, answer):\n",
    "    prompt = build_prompt(question, answer)\n",
    "    data = {\n",
    "        \"model\": \"glm-4\",\n",
    "        \"messages\": [{\"role\": \"user\", \"content\": prompt}],\n",
    "        \"temperature\": 0.2\n",
    "    }\n",
    "    try:\n",
    "        response = requests.post(API_URL, headers=HEADERS, json=data)\n",
    "        if response.status_code == 200:\n",
    "            result = response.json()\n",
    "            return result[\"choices\"][0][\"message\"][\"content\"]\n",
    "        else:\n",
    "            return f\"请求失败: {response.status_code} - {response.text}\"\n",
    "    except Exception as e:\n",
    "        return f\"异常: {str(e)}\"\n",
    "\n",
    "def process_testset(input_file, output_file):\n",
    "    with open(input_file, \"r\", encoding=\"utf-8\") as f:\n",
    "        qa_list = json.load(f)\n",
    "\n",
    "    results = []\n",
    "    for item in tqdm(qa_list, desc=\"评分进度\", unit=\"对\"):\n",
    "        question = item.get(\"question\", \"\")\n",
    "        answer = item.get(\"answer\", \"\")\n",
    "        feedback = score_qa_pair(question, answer)\n",
    "        item[\"score_feedback\"] = feedback\n",
    "        results.append(item)\n",
    "        time.sleep(2) \n",
    "\n",
    "    with open(output_file, \"w\", encoding=\"utf-8\") as f:\n",
    "        json.dump(results, f, ensure_ascii=False, indent=2)\n",
    "    print(\"所有问答评分已完成，结果保存在：\", output_file)\n",
    "\n",
    "process_testset(r\"D:\\desktop\\code\\QA\\train.json\", \"qa_scored.json\")"
   ]
  }
 ],
 "metadata": {
  "kernelspec": {
   "display_name": "ocr",
   "language": "python",
   "name": "python3"
  },
  "language_info": {
   "codemirror_mode": {
    "name": "ipython",
    "version": 3
   },
   "file_extension": ".py",
   "mimetype": "text/x-python",
   "name": "python",
   "nbconvert_exporter": "python",
   "pygments_lexer": "ipython3",
   "version": "3.9.21"
  }
 },
 "nbformat": 4,
 "nbformat_minor": 5
}

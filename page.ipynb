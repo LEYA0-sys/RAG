{
 "cells": [
  {
   "cell_type": "code",
   "execution_count": null,
   "id": "19b98ff0",
   "metadata": {},
   "outputs": [
    {
     "name": "stdout",
     "output_type": "stream",
     "text": [
      "已生成 Markdown 文件：D:\\desktop\\code\\data\\宏利環球貨幣保障計劃 保單條款_2022_05\\1.md\n"
     ]
    }
   ],
   "source": [
    "import json\n",
    "# import os\n",
    "# import urllib.parse\n",
    "\n",
    "json_file = r\"D:\\desktop\\output\\宏利環球貨幣保障計劃 保單條款_2022_05\\auto\\宏利環球貨幣保障計劃 保單條款_2022_05_content_list.json\"\n",
    "output_file = r\"D:\\desktop\\code\\data\\宏利環球貨幣保障計劃 保單條款_2022_05\\1.md\"\n",
    "path=r\"D:\\desktop\\code\\data\\宏利環球貨幣保障計劃 保單條款_2022_05\"\n",
    "with open(json_file, 'r', encoding='utf-8') as f:\n",
    "    data = json.load(f)\n",
    "result = []\n",
    "current_page = None\n",
    "\n",
    "for block in data:\n",
    "    page_idx = block.get('page_idx', -1)\n",
    "\n",
    "    # 如果页码发生变化，添加 Markdown 二级标题\n",
    "    if page_idx != current_page:\n",
    "        result.append(f'## 第 {page_idx} 页')\n",
    "        current_page = page_idx\n",
    "\n",
    "    block_type = block.get('type')\n",
    "\n",
    "    if block_type == 'text':\n",
    "        text = block.get('text', '').strip()\n",
    "        if text:\n",
    "            result.append(text)\n",
    "    elif block_type == 'image':\n",
    "        img_path = block.get('img_path', '')\n",
    "        if img_path:\n",
    "            # abs_path = os.path.abspath(os.path.join(path, img_path))\n",
    "            # # 将路径中的 \\ 替换为 /，并 URL 编码\n",
    "            # url_path = urllib.parse.quote(abs_path.replace(os.sep, '/'))\n",
    "            # img_md = f'![图片](file:///{url_path})'\n",
    "            img_md= f'![图片]({img_path})'\n",
    "            result.append(img_md)\n",
    "\n",
    "    elif block_type == 'table':\n",
    "        # 插入表格图片\n",
    "        img_path = block.get('img_path', '')\n",
    "        if img_path:\n",
    "            result.append(f'![表格图片]({img_path})')\n",
    "\n",
    "        # 插入 HTML 表格内容\n",
    "        table_html = block.get('table_body', '').strip()\n",
    "        # print(table_html)\n",
    "        if table_html:\n",
    "            result.append(table_html)\n",
    "\n",
    "        if block.get('table_caption'):\n",
    "            result.append(f'*表格标题：{\" \".join(block[\"table_caption\"])}*')\n",
    "        if block.get('table_footnote'):\n",
    "            result.append(f'*表格脚注：{\" \".join(block[\"table_footnote\"])}*')\n",
    "\n",
    "with open(output_file, 'w', encoding='utf-8') as f:\n",
    "    f.write('\\n\\n'.join(result))\n",
    "\n",
    "print(f'已生成 Markdown 文件：{output_file}')\n"
   ]
  },
  {
   "cell_type": "code",
   "execution_count": null,
   "id": "1f25c3a9",
   "metadata": {},
   "outputs": [
    {
     "name": "stdout",
     "output_type": "stream",
     "text": [
      "已处理 5 个页面，页码从 1 到 5\n",
      "更新后的文件为 middle.json\n"
     ]
    }
   ],
   "source": [
    "import json\n",
    "\n",
    "with open(r\"D:\\MinerU\\tests\\unittest\\test_integrations\\test_rag\\assets\\middle.json\", 'r', encoding='utf-8') as f:\n",
    "    data = json.load(f)\n",
    "\n",
    "# 创建 pdf_info 数组\n",
    "pdf_info = data.get('pdf_info', [])\n",
    "\n",
    "for idx, page in enumerate(pdf_info, start=1):\n",
    "    # 确保每个页面都有 page_idx 字段\n",
    "    page['page_idx'] = idx\n",
    "\n",
    "with open(r\"D:\\MinerU\\tests\\unittest\\test_integrations\\test_rag\\assets\\middle.json\", 'w', encoding='utf-8') as f:\n",
    "    json.dump(data, f, indent=4)\n",
    "\n",
    "print(f\"已处理 {len(pdf_info)} 个页面，页码从 1 到 {len(pdf_info)}\")\n",
    "print(\"更新后的文件为 middle.json\")"
   ]
  },
  {
   "cell_type": "code",
   "execution_count": 2,
   "id": "a2e9cfb9",
   "metadata": {},
   "outputs": [],
   "source": [
    "import json\n",
    "\n",
    "# 读取原始 JSON 文件\n",
    "with open(\"D:\\\\desktop\\\\code\\\\QA_ds.json\", \"r\", encoding=\"utf-8\") as f:\n",
    "    data = json.load(f)\n",
    "\n",
    "# 处理每个条目\n",
    "for item in data:\n",
    "    # 字段重命名\n",
    "    # item[\"source_file\"] = item.pop(\"文档来源\")\n",
    "    # item[\"page_num\"] = str(item.pop(\"页码\").replace(\"第\", \"\").replace(\"页\", \"\"))\n",
    "    item[\"text\"] = item.pop(\"content\")\n",
    "\n",
    "# 写入修改后的 JSON 文件\n",
    "with open(\"D:\\\\desktop\\\\code\\\\QA2_2.json\", \"w\", encoding=\"utf-8\") as f:\n",
    "    json.dump(data, f, ensure_ascii=False, indent=2)\n"
   ]
  }
 ],
 "metadata": {
  "kernelspec": {
   "display_name": "ocr",
   "language": "python",
   "name": "python3"
  },
  "language_info": {
   "codemirror_mode": {
    "name": "ipython",
    "version": 3
   },
   "file_extension": ".py",
   "mimetype": "text/x-python",
   "name": "python",
   "nbconvert_exporter": "python",
   "pygments_lexer": "ipython3",
   "version": "3.9.21"
  }
 },
 "nbformat": 4,
 "nbformat_minor": 5
}

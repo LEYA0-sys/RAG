{
 "cells": [
  {
   "cell_type": "markdown",
   "id": "7c771543",
   "metadata": {},
   "source": [
    "利用BM25算法对已有QA对分等级（简单、中等、困难），模型：豆包"
   ]
  },
  {
   "cell_type": "code",
   "execution_count": null,
   "id": "d57f767f",
   "metadata": {},
   "outputs": [
    {
     "name": "stdout",
     "output_type": "stream",
     "text": [
      "\n",
      "开始处理QA对难度分级...\n",
      "\n"
     ]
    },
    {
     "name": "stderr",
     "output_type": "stream",
     "text": [
      "处理进度:  36%|███▌      | 79/222 [09:16<19:43,  8.27s/对]"
     ]
    },
    {
     "name": "stdout",
     "output_type": "stream",
     "text": [
      "API请求错误: HTTPSConnectionPool(host='ark.cn-beijing.volces.com', port=443): Read timed out. (read timeout=10)\n"
     ]
    },
    {
     "name": "stderr",
     "output_type": "stream",
     "text": [
      "处理进度:  37%|███▋      | 82/222 [09:43<19:44,  8.46s/对]"
     ]
    },
    {
     "name": "stdout",
     "output_type": "stream",
     "text": [
      "API请求错误: HTTPSConnectionPool(host='ark.cn-beijing.volces.com', port=443): Read timed out. (read timeout=10)\n"
     ]
    },
    {
     "name": "stderr",
     "output_type": "stream",
     "text": [
      "处理进度:  43%|████▎     | 96/222 [11:26<17:21,  8.26s/对]"
     ]
    },
    {
     "name": "stdout",
     "output_type": "stream",
     "text": [
      "API请求错误: HTTPSConnectionPool(host='ark.cn-beijing.volces.com', port=443): Read timed out. (read timeout=10)\n"
     ]
    },
    {
     "name": "stderr",
     "output_type": "stream",
     "text": [
      "处理进度:  44%|████▎     | 97/222 [11:37<18:59,  9.12s/对]"
     ]
    },
    {
     "name": "stdout",
     "output_type": "stream",
     "text": [
      "API请求错误: HTTPSConnectionPool(host='ark.cn-beijing.volces.com', port=443): Read timed out. (read timeout=10)\n"
     ]
    },
    {
     "name": "stderr",
     "output_type": "stream",
     "text": [
      "处理进度:  54%|█████▎    | 119/222 [14:11<10:24,  6.06s/对]"
     ]
    },
    {
     "name": "stdout",
     "output_type": "stream",
     "text": [
      "API请求错误: HTTPSConnectionPool(host='ark.cn-beijing.volces.com', port=443): Read timed out. (read timeout=10)\n"
     ]
    },
    {
     "name": "stderr",
     "output_type": "stream",
     "text": [
      "处理进度:  59%|█████▊    | 130/222 [15:29<11:32,  7.53s/对]"
     ]
    },
    {
     "name": "stdout",
     "output_type": "stream",
     "text": [
      "API请求错误: HTTPSConnectionPool(host='ark.cn-beijing.volces.com', port=443): Read timed out. (read timeout=10)\n"
     ]
    },
    {
     "name": "stderr",
     "output_type": "stream",
     "text": [
      "处理进度:  65%|██████▍   | 144/222 [17:08<09:24,  7.23s/对]"
     ]
    },
    {
     "name": "stdout",
     "output_type": "stream",
     "text": [
      "API请求错误: HTTPSConnectionPool(host='ark.cn-beijing.volces.com', port=443): Read timed out. (read timeout=10)\n"
     ]
    },
    {
     "name": "stderr",
     "output_type": "stream",
     "text": [
      "处理进度:  86%|████████▌ | 190/222 [22:19<03:44,  7.01s/对]"
     ]
    },
    {
     "name": "stdout",
     "output_type": "stream",
     "text": [
      "API请求错误: HTTPSConnectionPool(host='ark.cn-beijing.volces.com', port=443): Read timed out. (read timeout=10)\n"
     ]
    },
    {
     "name": "stderr",
     "output_type": "stream",
     "text": [
      "处理进度:  88%|████████▊ | 195/222 [23:01<03:29,  7.77s/对]"
     ]
    },
    {
     "name": "stdout",
     "output_type": "stream",
     "text": [
      "API请求错误: HTTPSConnectionPool(host='ark.cn-beijing.volces.com', port=443): Read timed out. (read timeout=10)\n"
     ]
    },
    {
     "name": "stderr",
     "output_type": "stream",
     "text": [
      "处理进度:  90%|████████▉ | 199/222 [23:39<03:28,  9.07s/对]"
     ]
    },
    {
     "name": "stdout",
     "output_type": "stream",
     "text": [
      "API请求错误: HTTPSConnectionPool(host='ark.cn-beijing.volces.com', port=443): Read timed out. (read timeout=10)\n"
     ]
    },
    {
     "name": "stderr",
     "output_type": "stream",
     "text": [
      "处理进度: 100%|██████████| 222/222 [26:31<00:00,  7.17s/对]"
     ]
    },
    {
     "name": "stdout",
     "output_type": "stream",
     "text": [
      "\n",
      "分级统计结果:\n",
      "简单: 65个\n",
      "中等: 145个\n",
      "困难: 2个\n",
      "未知: 10个\n",
      "\n",
      "所有问答难度分级已完成，结果保存在： D:\\火力全开的项目实践\\宏利 pdf 文件\\测试集\\data\\QA_level（QA对）.json\n"
     ]
    },
    {
     "name": "stderr",
     "output_type": "stream",
     "text": [
      "\n"
     ]
    }
   ],
   "source": [
    "import json\n",
    "import requests\n",
    "import time\n",
    "from tqdm import tqdm\n",
    "from opencc import OpenCC\n",
    "import jieba\n",
    "\n",
    "API_KEY = \"d601827e-cd0d-41e2-9c0a-32e424214e6a\" \n",
    "API_URL = \"https://ark.cn-beijing.volces.com/api/v3/chat/completions\"\n",
    "HEADERS = {\n",
    "    \"Content-Type\": \"application/json\",\n",
    "    \"Authorization\": f\"Bearer {API_KEY}\"\n",
    "}\n",
    "\n",
    "cc = OpenCC('t2s')\n",
    "\n",
    "def tokenize(text):\n",
    "    \"\"\"中文分词函数\"\"\"\n",
    "    return list(jieba.cut(text))\n",
    "\n",
    "def build_prompt(question, answer):\n",
    "    return f\"\"\"\n",
    "你是一位保险领域的资深专家，请根据以下问答对的复杂程度和详细程度，将其划分为\"简单\"、\"中等\"或\"困难\"三个等级。\n",
    "\n",
    "### 划分标准：\n",
    "1. 简单：问题直接明确，答案简短，涉及基本保险概念或简单流程\n",
    "   - 示例：什么是寿险？\n",
    "   - 特征：单概念、单步回答\n",
    "\n",
    "2. 中等：问题需要一定专业知识理解，答案包含多个要点或步骤\n",
    "   - 示例：重疾险的理赔流程是什么？\n",
    "   - 特征：多步骤、2-3个相关概念\n",
    "\n",
    "3. 困难：问题复杂或涉及专业术语，答案需要详细解释或多方面考虑\n",
    "   - 示例：如何评估不同投资连结保险产品的风险收益特征？\n",
    "   - 特征：多概念交叉、需要推理分析\n",
    "\n",
    "### 评估维度：\n",
    "1. 问题复杂度：问题的专业性和抽象程度\n",
    "2. 答案详细度：答案的深度、广度和技术细节\n",
    "3. 概念数量：涉及的专业概念数量\n",
    "4. 推理需求：是否需要多步推理或案例分析\n",
    "\n",
    "### 待评估QA对：\n",
    "问题：{question}\n",
    "回答：{answer}\n",
    "\n",
    "### 输出要求：\n",
    "请严格按以下JSON格式回应：\n",
    "{{\n",
    "    \"difficulty\": \"简单|中等|困难\",\n",
    "    \"reason\": \"分级理由说明\"\n",
    "}}\n",
    "\"\"\"\n",
    "\n",
    "def classify_qa_pair(question, answer):\n",
    "    prompt = build_prompt(question, answer)\n",
    "    data = {\n",
    "        \"model\": \"doubao-1-5-thinking-pro-250415\", \n",
    "        \"messages\": [{\"role\": \"user\", \"content\": prompt}],\n",
    "        \"temperature\": 0.3,\n",
    "        \"response_format\": {\"type\": \"json_object\"} \n",
    "    }\n",
    "    \n",
    "    try:\n",
    "        response = requests.post(API_URL, headers=HEADERS, json=data, timeout=10)\n",
    "        response.raise_for_status() \n",
    "        \n",
    "        result = response.json()\n",
    "       \n",
    "        if \"choices\" in result:\n",
    "            content = result[\"choices\"][0][\"message\"][\"content\"]\n",
    "        elif \"result\" in result:  \n",
    "            content = result[\"result\"]\n",
    "        else:\n",
    "            content = json.dumps({\"difficulty\": \"未知\", \"reason\": \"API响应格式不符\"})\n",
    "            \n",
    "        try:\n",
    "            json.loads(content)  \n",
    "            return content\n",
    "        except json.JSONDecodeError:\n",
    "            return json.dumps({\"difficulty\": \"未知\", \"reason\": \"API返回非JSON格式\"})\n",
    "            \n",
    "    except requests.exceptions.RequestException as e:\n",
    "        print(f\"API请求错误: {str(e)}\")\n",
    "        return json.dumps({\"difficulty\": \"未知\", \"reason\": f\"API请求错误: {str(e)}\"})\n",
    "    except Exception as e:\n",
    "        print(f\"处理异常: {str(e)}\")\n",
    "        return json.dumps({\"difficulty\": \"未知\", \"reason\": f\"处理异常: {str(e)}\"})\n",
    "\n",
    "def process_testset(qa_file, output_file):\n",
    "    with open(qa_file, \"r\", encoding=\"utf-8\") as f:\n",
    "        qa_list = json.load(f)\n",
    "\n",
    "    results = []\n",
    "    stats = {\"简单\": 0, \"中等\": 0, \"困难\": 0, \"未知\": 0}\n",
    "    \n",
    "    print(\"\\n开始处理QA对难度分级...\\n\")\n",
    "    \n",
    "    for item in tqdm(qa_list, desc=\"处理进度\", unit=\"对\"):\n",
    "        question = item.get(\"question\", \"\")\n",
    "        answer = item.get(\"answer\", \"\")\n",
    "        \n",
    "        try:\n",
    "            classification = classify_qa_pair(question, answer)\n",
    "            classification_data = json.loads(classification)\n",
    "            \n",
    "            item[\"difficulty\"] = classification_data.get(\"difficulty\", \"未知\")\n",
    "            item[\"difficulty_reason\"] = classification_data.get(\"reason\", \"\")\n",
    "            \n",
    "            stats[item[\"difficulty\"]] += 1\n",
    "        except json.JSONDecodeError:\n",
    "            item[\"difficulty\"] = \"未知\"\n",
    "            item[\"difficulty_reason\"] = \"响应解析失败\"\n",
    "            stats[\"未知\"] += 1\n",
    "        \n",
    "        results.append(item)\n",
    "        time.sleep(1)  \n",
    "\n",
    "    with open(output_file, \"w\", encoding=\"utf-8\") as f:\n",
    "        json.dump(results, f, ensure_ascii=False, indent=2)\n",
    "    \n",
    "    print(\"\\n分级统计结果:\")\n",
    "    for level, count in stats.items():\n",
    "        print(f\"{level}: {count}个\")\n",
    "    print(\"\\n所有问答难度分级已完成，结果保存在：\", output_file)\n",
    "\n",
    "if __name__ == \"__main__\":\n",
    "    process_testset(\n",
    "        r\"D:\\火力全开的项目实践\\宏利 pdf 文件\\测试集\\data\\QA4.json\",    \n",
    "        r\"D:\\火力全开的项目实践\\宏利 pdf 文件\\测试集\\data\\QA_level（QA对）.json\"          \n",
    "    )"
   ]
  },
  {
   "cell_type": "markdown",
   "id": "1568645c",
   "metadata": {},
   "source": [
    "丰富提示词，再进行评分（结果：简单变多，未知变多，效果下降），模型：豆包"
   ]
  },
  {
   "cell_type": "code",
   "execution_count": null,
   "id": "28999a71",
   "metadata": {},
   "outputs": [
    {
     "name": "stdout",
     "output_type": "stream",
     "text": [
      "\n",
      "开始处理QA对难度分级...\n",
      "\n"
     ]
    },
    {
     "name": "stderr",
     "output_type": "stream",
     "text": [
      "处理进度:   0%|          | 1/222 [00:07<27:03,  7.35s/对]"
     ]
    },
    {
     "name": "stdout",
     "output_type": "stream",
     "text": [
      "API请求错误: HTTPSConnectionPool(host='ark.cn-beijing.volces.com', port=443): Read timed out. (read timeout=10)\n"
     ]
    },
    {
     "name": "stderr",
     "output_type": "stream",
     "text": [
      "处理进度:   2%|▏         | 4/222 [00:31<27:12,  7.49s/对]"
     ]
    },
    {
     "name": "stdout",
     "output_type": "stream",
     "text": [
      "API请求错误: HTTPSConnectionPool(host='ark.cn-beijing.volces.com', port=443): Read timed out. (read timeout=10)\n"
     ]
    },
    {
     "name": "stderr",
     "output_type": "stream",
     "text": [
      "处理进度:   2%|▏         | 5/222 [00:42<31:47,  8.79s/对]"
     ]
    },
    {
     "name": "stdout",
     "output_type": "stream",
     "text": [
      "API请求错误: HTTPSConnectionPool(host='ark.cn-beijing.volces.com', port=443): Read timed out. (read timeout=10)\n"
     ]
    },
    {
     "name": "stderr",
     "output_type": "stream",
     "text": [
      "处理进度:  10%|▉         | 22/222 [02:53<23:17,  6.99s/对]"
     ]
    },
    {
     "name": "stdout",
     "output_type": "stream",
     "text": [
      "API请求错误: HTTPSConnectionPool(host='ark.cn-beijing.volces.com', port=443): Read timed out. (read timeout=10)\n"
     ]
    },
    {
     "name": "stderr",
     "output_type": "stream",
     "text": [
      "处理进度:  11%|█▏        | 25/222 [03:22<29:19,  8.93s/对]"
     ]
    },
    {
     "name": "stdout",
     "output_type": "stream",
     "text": [
      "API请求错误: HTTPSConnectionPool(host='ark.cn-beijing.volces.com', port=443): Read timed out. (read timeout=10)\n"
     ]
    },
    {
     "name": "stderr",
     "output_type": "stream",
     "text": [
      "处理进度:  13%|█▎        | 28/222 [03:47<26:46,  8.28s/对]"
     ]
    },
    {
     "name": "stdout",
     "output_type": "stream",
     "text": [
      "API请求错误: HTTPSConnectionPool(host='ark.cn-beijing.volces.com', port=443): Read timed out. (read timeout=10)\n"
     ]
    },
    {
     "name": "stderr",
     "output_type": "stream",
     "text": [
      "处理进度:  18%|█▊        | 39/222 [05:20<24:49,  8.14s/对]"
     ]
    },
    {
     "name": "stdout",
     "output_type": "stream",
     "text": [
      "API请求错误: HTTPSConnectionPool(host='ark.cn-beijing.volces.com', port=443): Read timed out. (read timeout=10)\n"
     ]
    },
    {
     "name": "stderr",
     "output_type": "stream",
     "text": [
      "处理进度:  18%|█▊        | 40/222 [05:32<27:23,  9.03s/对]"
     ]
    },
    {
     "name": "stdout",
     "output_type": "stream",
     "text": [
      "API请求错误: HTTPSConnectionPool(host='ark.cn-beijing.volces.com', port=443): Read timed out. (read timeout=10)\n"
     ]
    },
    {
     "name": "stderr",
     "output_type": "stream",
     "text": [
      "处理进度:  26%|██▌       | 58/222 [07:27<14:13,  5.20s/对]"
     ]
    },
    {
     "name": "stdout",
     "output_type": "stream",
     "text": [
      "API请求错误: HTTPSConnectionPool(host='ark.cn-beijing.volces.com', port=443): Read timed out. (read timeout=10)\n"
     ]
    },
    {
     "name": "stderr",
     "output_type": "stream",
     "text": [
      "处理进度:  27%|██▋       | 61/222 [07:53<19:27,  7.25s/对]"
     ]
    },
    {
     "name": "stdout",
     "output_type": "stream",
     "text": [
      "API请求错误: HTTPSConnectionPool(host='ark.cn-beijing.volces.com', port=443): Read timed out. (read timeout=10)\n"
     ]
    },
    {
     "name": "stderr",
     "output_type": "stream",
     "text": [
      "处理进度:  28%|██▊       | 62/222 [08:04<22:24,  8.41s/对]"
     ]
    },
    {
     "name": "stdout",
     "output_type": "stream",
     "text": [
      "API请求错误: HTTPSConnectionPool(host='ark.cn-beijing.volces.com', port=443): Read timed out. (read timeout=10)\n"
     ]
    },
    {
     "name": "stderr",
     "output_type": "stream",
     "text": [
      "处理进度:  31%|███       | 68/222 [08:58<22:06,  8.61s/对]"
     ]
    },
    {
     "name": "stdout",
     "output_type": "stream",
     "text": [
      "API请求错误: HTTPSConnectionPool(host='ark.cn-beijing.volces.com', port=443): Read timed out. (read timeout=10)\n"
     ]
    },
    {
     "name": "stderr",
     "output_type": "stream",
     "text": [
      "处理进度:  32%|███▏      | 70/222 [09:14<20:28,  8.08s/对]"
     ]
    },
    {
     "name": "stdout",
     "output_type": "stream",
     "text": [
      "API请求错误: HTTPSConnectionPool(host='ark.cn-beijing.volces.com', port=443): Read timed out. (read timeout=10)\n"
     ]
    },
    {
     "name": "stderr",
     "output_type": "stream",
     "text": [
      "处理进度:  35%|███▍      | 77/222 [10:06<17:50,  7.38s/对]"
     ]
    },
    {
     "name": "stdout",
     "output_type": "stream",
     "text": [
      "API请求错误: HTTPSConnectionPool(host='ark.cn-beijing.volces.com', port=443): Read timed out. (read timeout=10)\n"
     ]
    },
    {
     "name": "stderr",
     "output_type": "stream",
     "text": [
      "处理进度:  36%|███▋      | 81/222 [10:37<17:09,  7.30s/对]"
     ]
    },
    {
     "name": "stdout",
     "output_type": "stream",
     "text": [
      "API请求错误: HTTPSConnectionPool(host='ark.cn-beijing.volces.com', port=443): Read timed out. (read timeout=10)\n"
     ]
    },
    {
     "name": "stderr",
     "output_type": "stream",
     "text": [
      "处理进度:  38%|███▊      | 84/222 [11:02<17:56,  7.80s/对]"
     ]
    },
    {
     "name": "stdout",
     "output_type": "stream",
     "text": [
      "API请求错误: HTTPSConnectionPool(host='ark.cn-beijing.volces.com', port=443): Read timed out. (read timeout=10)\n"
     ]
    },
    {
     "name": "stderr",
     "output_type": "stream",
     "text": [
      "处理进度:  41%|████      | 91/222 [11:52<13:41,  6.27s/对]"
     ]
    },
    {
     "name": "stdout",
     "output_type": "stream",
     "text": [
      "API请求错误: HTTPSConnectionPool(host='ark.cn-beijing.volces.com', port=443): Read timed out. (read timeout=10)\n"
     ]
    },
    {
     "name": "stderr",
     "output_type": "stream",
     "text": [
      "处理进度:  41%|████▏     | 92/222 [12:03<16:44,  7.72s/对]"
     ]
    },
    {
     "name": "stdout",
     "output_type": "stream",
     "text": [
      "API请求错误: HTTPSConnectionPool(host='ark.cn-beijing.volces.com', port=443): Read timed out. (read timeout=10)\n"
     ]
    },
    {
     "name": "stderr",
     "output_type": "stream",
     "text": [
      "处理进度:  43%|████▎     | 96/222 [12:31<14:33,  6.93s/对]"
     ]
    },
    {
     "name": "stdout",
     "output_type": "stream",
     "text": [
      "API请求错误: HTTPSConnectionPool(host='ark.cn-beijing.volces.com', port=443): Read timed out. (read timeout=10)\n"
     ]
    },
    {
     "name": "stderr",
     "output_type": "stream",
     "text": [
      "处理进度:  44%|████▎     | 97/222 [12:42<17:03,  8.19s/对]"
     ]
    },
    {
     "name": "stdout",
     "output_type": "stream",
     "text": [
      "API请求错误: HTTPSConnectionPool(host='ark.cn-beijing.volces.com', port=443): Read timed out. (read timeout=10)\n"
     ]
    },
    {
     "name": "stderr",
     "output_type": "stream",
     "text": [
      "处理进度:  50%|█████     | 112/222 [14:27<12:12,  6.66s/对]"
     ]
    },
    {
     "name": "stdout",
     "output_type": "stream",
     "text": [
      "API请求错误: HTTPSConnectionPool(host='ark.cn-beijing.volces.com', port=443): Read timed out. (read timeout=10)\n"
     ]
    },
    {
     "name": "stderr",
     "output_type": "stream",
     "text": [
      "处理进度:  51%|█████     | 113/222 [14:38<14:32,  8.00s/对]"
     ]
    },
    {
     "name": "stdout",
     "output_type": "stream",
     "text": [
      "API请求错误: HTTPSConnectionPool(host='ark.cn-beijing.volces.com', port=443): Read timed out. (read timeout=10)\n"
     ]
    },
    {
     "name": "stderr",
     "output_type": "stream",
     "text": [
      "处理进度:  52%|█████▏    | 115/222 [14:59<16:29,  9.25s/对]"
     ]
    },
    {
     "name": "stdout",
     "output_type": "stream",
     "text": [
      "API请求错误: HTTPSConnectionPool(host='ark.cn-beijing.volces.com', port=443): Read timed out. (read timeout=10)\n"
     ]
    },
    {
     "name": "stderr",
     "output_type": "stream",
     "text": [
      "处理进度:  53%|█████▎    | 118/222 [15:25<14:49,  8.55s/对]"
     ]
    },
    {
     "name": "stdout",
     "output_type": "stream",
     "text": [
      "API请求错误: HTTPSConnectionPool(host='ark.cn-beijing.volces.com', port=443): Read timed out. (read timeout=10)\n"
     ]
    },
    {
     "name": "stderr",
     "output_type": "stream",
     "text": [
      "处理进度:  55%|█████▌    | 123/222 [16:11<15:04,  9.14s/对]"
     ]
    },
    {
     "name": "stdout",
     "output_type": "stream",
     "text": [
      "API请求错误: HTTPSConnectionPool(host='ark.cn-beijing.volces.com', port=443): Read timed out. (read timeout=10)\n"
     ]
    },
    {
     "name": "stderr",
     "output_type": "stream",
     "text": [
      "处理进度:  56%|█████▌    | 124/222 [16:22<15:53,  9.73s/对]"
     ]
    },
    {
     "name": "stdout",
     "output_type": "stream",
     "text": [
      "API请求错误: HTTPSConnectionPool(host='ark.cn-beijing.volces.com', port=443): Read timed out. (read timeout=10)\n"
     ]
    },
    {
     "name": "stderr",
     "output_type": "stream",
     "text": [
      "处理进度:  56%|█████▋    | 125/222 [16:33<16:24, 10.15s/对]"
     ]
    },
    {
     "name": "stdout",
     "output_type": "stream",
     "text": [
      "API请求错误: HTTPSConnectionPool(host='ark.cn-beijing.volces.com', port=443): Read timed out. (read timeout=10)\n"
     ]
    },
    {
     "name": "stderr",
     "output_type": "stream",
     "text": [
      "处理进度:  57%|█████▋    | 126/222 [16:45<16:43, 10.45s/对]"
     ]
    },
    {
     "name": "stdout",
     "output_type": "stream",
     "text": [
      "API请求错误: HTTPSConnectionPool(host='ark.cn-beijing.volces.com', port=443): Read timed out. (read timeout=10)\n"
     ]
    },
    {
     "name": "stderr",
     "output_type": "stream",
     "text": [
      "处理进度:  58%|█████▊    | 128/222 [17:05<16:06, 10.29s/对]"
     ]
    },
    {
     "name": "stdout",
     "output_type": "stream",
     "text": [
      "API请求错误: HTTPSConnectionPool(host='ark.cn-beijing.volces.com', port=443): Read timed out. (read timeout=10)\n"
     ]
    },
    {
     "name": "stderr",
     "output_type": "stream",
     "text": [
      "处理进度:  58%|█████▊    | 129/222 [17:16<16:19, 10.53s/对]"
     ]
    },
    {
     "name": "stdout",
     "output_type": "stream",
     "text": [
      "API请求错误: HTTPSConnectionPool(host='ark.cn-beijing.volces.com', port=443): Read timed out. (read timeout=10)\n"
     ]
    },
    {
     "name": "stderr",
     "output_type": "stream",
     "text": [
      "处理进度:  59%|█████▊    | 130/222 [17:27<16:25, 10.71s/对]"
     ]
    },
    {
     "name": "stdout",
     "output_type": "stream",
     "text": [
      "API请求错误: HTTPSConnectionPool(host='ark.cn-beijing.volces.com', port=443): Read timed out. (read timeout=10)\n"
     ]
    },
    {
     "name": "stderr",
     "output_type": "stream",
     "text": [
      "处理进度:  59%|█████▉    | 131/222 [17:39<16:26, 10.84s/对]"
     ]
    },
    {
     "name": "stdout",
     "output_type": "stream",
     "text": [
      "API请求错误: HTTPSConnectionPool(host='ark.cn-beijing.volces.com', port=443): Read timed out. (read timeout=10)\n"
     ]
    },
    {
     "name": "stderr",
     "output_type": "stream",
     "text": [
      "处理进度:  60%|█████▉    | 133/222 [17:59<15:35, 10.51s/对]"
     ]
    },
    {
     "name": "stdout",
     "output_type": "stream",
     "text": [
      "API请求错误: HTTPSConnectionPool(host='ark.cn-beijing.volces.com', port=443): Read timed out. (read timeout=10)\n"
     ]
    },
    {
     "name": "stderr",
     "output_type": "stream",
     "text": [
      "处理进度:  60%|██████    | 134/222 [18:10<15:40, 10.69s/对]"
     ]
    },
    {
     "name": "stdout",
     "output_type": "stream",
     "text": [
      "API请求错误: HTTPSConnectionPool(host='ark.cn-beijing.volces.com', port=443): Read timed out. (read timeout=10)\n"
     ]
    },
    {
     "name": "stderr",
     "output_type": "stream",
     "text": [
      "处理进度:  61%|██████    | 135/222 [18:21<15:40, 10.81s/对]"
     ]
    },
    {
     "name": "stdout",
     "output_type": "stream",
     "text": [
      "API请求错误: HTTPSConnectionPool(host='ark.cn-beijing.volces.com', port=443): Read timed out. (read timeout=10)\n"
     ]
    },
    {
     "name": "stderr",
     "output_type": "stream",
     "text": [
      "处理进度:  61%|██████▏   | 136/222 [18:33<15:38, 10.91s/对]"
     ]
    },
    {
     "name": "stdout",
     "output_type": "stream",
     "text": [
      "API请求错误: HTTPSConnectionPool(host='ark.cn-beijing.volces.com', port=443): Read timed out. (read timeout=10)\n"
     ]
    },
    {
     "name": "stderr",
     "output_type": "stream",
     "text": [
      "处理进度:  62%|██████▏   | 137/222 [18:44<15:32, 10.97s/对]"
     ]
    },
    {
     "name": "stdout",
     "output_type": "stream",
     "text": [
      "API请求错误: HTTPSConnectionPool(host='ark.cn-beijing.volces.com', port=443): Read timed out. (read timeout=10)\n"
     ]
    },
    {
     "name": "stderr",
     "output_type": "stream",
     "text": [
      "处理进度:  62%|██████▏   | 138/222 [18:55<15:24, 11.01s/对]"
     ]
    },
    {
     "name": "stdout",
     "output_type": "stream",
     "text": [
      "API请求错误: HTTPSConnectionPool(host='ark.cn-beijing.volces.com', port=443): Read timed out. (read timeout=10)\n"
     ]
    },
    {
     "name": "stderr",
     "output_type": "stream",
     "text": [
      "处理进度:  63%|██████▎   | 140/222 [19:13<13:23,  9.80s/对]"
     ]
    },
    {
     "name": "stdout",
     "output_type": "stream",
     "text": [
      "API请求错误: HTTPSConnectionPool(host='ark.cn-beijing.volces.com', port=443): Read timed out. (read timeout=10)\n"
     ]
    },
    {
     "name": "stderr",
     "output_type": "stream",
     "text": [
      "处理进度:  64%|██████▎   | 141/222 [19:24<13:45, 10.20s/对]"
     ]
    },
    {
     "name": "stdout",
     "output_type": "stream",
     "text": [
      "API请求错误: HTTPSConnectionPool(host='ark.cn-beijing.volces.com', port=443): Read timed out. (read timeout=10)\n"
     ]
    },
    {
     "name": "stderr",
     "output_type": "stream",
     "text": [
      "处理进度:  65%|██████▍   | 144/222 [19:51<12:02,  9.27s/对]"
     ]
    },
    {
     "name": "stdout",
     "output_type": "stream",
     "text": [
      "API请求错误: HTTPSConnectionPool(host='ark.cn-beijing.volces.com', port=443): Read timed out. (read timeout=10)\n"
     ]
    },
    {
     "name": "stderr",
     "output_type": "stream",
     "text": [
      "处理进度:  66%|██████▌   | 147/222 [20:16<10:37,  8.50s/对]"
     ]
    },
    {
     "name": "stdout",
     "output_type": "stream",
     "text": [
      "API请求错误: HTTPSConnectionPool(host='ark.cn-beijing.volces.com', port=443): Read timed out. (read timeout=10)\n"
     ]
    },
    {
     "name": "stderr",
     "output_type": "stream",
     "text": [
      "处理进度:  68%|██████▊   | 151/222 [20:53<10:23,  8.78s/对]"
     ]
    },
    {
     "name": "stdout",
     "output_type": "stream",
     "text": [
      "API请求错误: HTTPSConnectionPool(host='ark.cn-beijing.volces.com', port=443): Read timed out. (read timeout=10)\n"
     ]
    },
    {
     "name": "stderr",
     "output_type": "stream",
     "text": [
      "处理进度:  70%|███████   | 156/222 [21:36<09:17,  8.44s/对]"
     ]
    },
    {
     "name": "stdout",
     "output_type": "stream",
     "text": [
      "API请求错误: HTTPSConnectionPool(host='ark.cn-beijing.volces.com', port=443): Read timed out. (read timeout=10)\n"
     ]
    },
    {
     "name": "stderr",
     "output_type": "stream",
     "text": [
      "处理进度:  71%|███████   | 157/222 [21:47<10:01,  9.25s/对]"
     ]
    },
    {
     "name": "stdout",
     "output_type": "stream",
     "text": [
      "API请求错误: HTTPSConnectionPool(host='ark.cn-beijing.volces.com', port=443): Read timed out. (read timeout=10)\n"
     ]
    },
    {
     "name": "stderr",
     "output_type": "stream",
     "text": [
      "处理进度:  73%|███████▎  | 162/222 [22:28<07:47,  7.79s/对]"
     ]
    },
    {
     "name": "stdout",
     "output_type": "stream",
     "text": [
      "API请求错误: HTTPSConnectionPool(host='ark.cn-beijing.volces.com', port=443): Read timed out. (read timeout=10)\n"
     ]
    },
    {
     "name": "stderr",
     "output_type": "stream",
     "text": [
      "处理进度:  73%|███████▎  | 163/222 [22:39<08:38,  8.79s/对]"
     ]
    },
    {
     "name": "stdout",
     "output_type": "stream",
     "text": [
      "API请求错误: HTTPSConnectionPool(host='ark.cn-beijing.volces.com', port=443): Read timed out. (read timeout=10)\n"
     ]
    },
    {
     "name": "stderr",
     "output_type": "stream",
     "text": [
      "处理进度:  75%|███████▌  | 167/222 [23:10<06:55,  7.55s/对]"
     ]
    },
    {
     "name": "stdout",
     "output_type": "stream",
     "text": [
      "API请求错误: HTTPSConnectionPool(host='ark.cn-beijing.volces.com', port=443): Read timed out. (read timeout=10)\n"
     ]
    },
    {
     "name": "stderr",
     "output_type": "stream",
     "text": [
      "处理进度:  78%|███████▊  | 174/222 [23:59<05:55,  7.40s/对]"
     ]
    },
    {
     "name": "stdout",
     "output_type": "stream",
     "text": [
      "API请求错误: HTTPSConnectionPool(host='ark.cn-beijing.volces.com', port=443): Read timed out. (read timeout=10)\n"
     ]
    },
    {
     "name": "stderr",
     "output_type": "stream",
     "text": [
      "处理进度:  84%|████████▍ | 186/222 [25:17<03:36,  6.02s/对]"
     ]
    },
    {
     "name": "stdout",
     "output_type": "stream",
     "text": [
      "API请求错误: HTTPSConnectionPool(host='ark.cn-beijing.volces.com', port=443): Read timed out. (read timeout=10)\n"
     ]
    },
    {
     "name": "stderr",
     "output_type": "stream",
     "text": [
      "处理进度:  84%|████████▍ | 187/222 [25:28<04:24,  7.55s/对]"
     ]
    },
    {
     "name": "stdout",
     "output_type": "stream",
     "text": [
      "API请求错误: HTTPSConnectionPool(host='ark.cn-beijing.volces.com', port=443): Read timed out. (read timeout=10)\n"
     ]
    },
    {
     "name": "stderr",
     "output_type": "stream",
     "text": [
      "处理进度:  85%|████████▍ | 188/222 [25:39<04:53,  8.62s/对]"
     ]
    },
    {
     "name": "stdout",
     "output_type": "stream",
     "text": [
      "API请求错误: HTTPSConnectionPool(host='ark.cn-beijing.volces.com', port=443): Read timed out. (read timeout=10)\n"
     ]
    },
    {
     "name": "stderr",
     "output_type": "stream",
     "text": [
      "处理进度:  85%|████████▌ | 189/222 [25:50<05:08,  9.36s/对]"
     ]
    },
    {
     "name": "stdout",
     "output_type": "stream",
     "text": [
      "API请求错误: HTTPSConnectionPool(host='ark.cn-beijing.volces.com', port=443): Read timed out. (read timeout=10)\n"
     ]
    },
    {
     "name": "stderr",
     "output_type": "stream",
     "text": [
      "处理进度:  86%|████████▌ | 190/222 [26:01<05:16,  9.89s/对]"
     ]
    },
    {
     "name": "stdout",
     "output_type": "stream",
     "text": [
      "API请求错误: HTTPSConnectionPool(host='ark.cn-beijing.volces.com', port=443): Read timed out. (read timeout=10)\n"
     ]
    },
    {
     "name": "stderr",
     "output_type": "stream",
     "text": [
      "处理进度:  86%|████████▋ | 192/222 [26:23<05:08, 10.30s/对]"
     ]
    },
    {
     "name": "stdout",
     "output_type": "stream",
     "text": [
      "API请求错误: HTTPSConnectionPool(host='ark.cn-beijing.volces.com', port=443): Read timed out. (read timeout=10)\n"
     ]
    },
    {
     "name": "stderr",
     "output_type": "stream",
     "text": [
      "处理进度:  89%|████████▊ | 197/222 [27:02<03:19,  8.00s/对]"
     ]
    },
    {
     "name": "stdout",
     "output_type": "stream",
     "text": [
      "API请求错误: HTTPSConnectionPool(host='ark.cn-beijing.volces.com', port=443): Read timed out. (read timeout=10)\n"
     ]
    },
    {
     "name": "stderr",
     "output_type": "stream",
     "text": [
      "处理进度:  90%|█████████ | 200/222 [27:30<03:11,  8.70s/对]"
     ]
    },
    {
     "name": "stdout",
     "output_type": "stream",
     "text": [
      "API请求错误: HTTPSConnectionPool(host='ark.cn-beijing.volces.com', port=443): Read timed out. (read timeout=10)\n"
     ]
    },
    {
     "name": "stderr",
     "output_type": "stream",
     "text": [
      "处理进度:  94%|█████████▍| 209/222 [28:37<01:33,  7.18s/对]"
     ]
    },
    {
     "name": "stdout",
     "output_type": "stream",
     "text": [
      "API请求错误: HTTPSConnectionPool(host='ark.cn-beijing.volces.com', port=443): Read timed out. (read timeout=10)\n"
     ]
    },
    {
     "name": "stderr",
     "output_type": "stream",
     "text": [
      "处理进度:  95%|█████████▌| 212/222 [28:59<01:09,  6.97s/对]"
     ]
    },
    {
     "name": "stdout",
     "output_type": "stream",
     "text": [
      "API请求错误: HTTPSConnectionPool(host='ark.cn-beijing.volces.com', port=443): Read timed out. (read timeout=10)\n"
     ]
    },
    {
     "name": "stderr",
     "output_type": "stream",
     "text": [
      "处理进度:  96%|█████████▋| 214/222 [29:21<01:10,  8.78s/对]"
     ]
    },
    {
     "name": "stdout",
     "output_type": "stream",
     "text": [
      "API请求错误: HTTPSConnectionPool(host='ark.cn-beijing.volces.com', port=443): Read timed out. (read timeout=10)\n"
     ]
    },
    {
     "name": "stderr",
     "output_type": "stream",
     "text": [
      "处理进度:  97%|█████████▋| 215/222 [29:32<01:06,  9.48s/对]"
     ]
    },
    {
     "name": "stdout",
     "output_type": "stream",
     "text": [
      "API请求错误: HTTPSConnectionPool(host='ark.cn-beijing.volces.com', port=443): Read timed out. (read timeout=10)\n"
     ]
    },
    {
     "name": "stderr",
     "output_type": "stream",
     "text": [
      "处理进度:  97%|█████████▋| 216/222 [29:43<00:59,  9.97s/对]"
     ]
    },
    {
     "name": "stdout",
     "output_type": "stream",
     "text": [
      "API请求错误: HTTPSConnectionPool(host='ark.cn-beijing.volces.com', port=443): Read timed out. (read timeout=10)\n"
     ]
    },
    {
     "name": "stderr",
     "output_type": "stream",
     "text": [
      "处理进度:  98%|█████████▊| 217/222 [29:54<00:51, 10.32s/对]"
     ]
    },
    {
     "name": "stdout",
     "output_type": "stream",
     "text": [
      "API请求错误: HTTPSConnectionPool(host='ark.cn-beijing.volces.com', port=443): Read timed out. (read timeout=10)\n"
     ]
    },
    {
     "name": "stderr",
     "output_type": "stream",
     "text": [
      "处理进度:  98%|█████████▊| 218/222 [30:05<00:42, 10.56s/对]"
     ]
    },
    {
     "name": "stdout",
     "output_type": "stream",
     "text": [
      "API请求错误: HTTPSConnectionPool(host='ark.cn-beijing.volces.com', port=443): Read timed out. (read timeout=10)\n"
     ]
    },
    {
     "name": "stderr",
     "output_type": "stream",
     "text": [
      "处理进度:  99%|█████████▊| 219/222 [30:16<00:32, 10.72s/对]"
     ]
    },
    {
     "name": "stdout",
     "output_type": "stream",
     "text": [
      "API请求错误: HTTPSConnectionPool(host='ark.cn-beijing.volces.com', port=443): Read timed out. (read timeout=10)\n"
     ]
    },
    {
     "name": "stderr",
     "output_type": "stream",
     "text": [
      "处理进度:  99%|█████████▉| 220/222 [30:27<00:21, 10.83s/对]"
     ]
    },
    {
     "name": "stdout",
     "output_type": "stream",
     "text": [
      "API请求错误: HTTPSConnectionPool(host='ark.cn-beijing.volces.com', port=443): Read timed out. (read timeout=10)\n"
     ]
    },
    {
     "name": "stderr",
     "output_type": "stream",
     "text": [
      "处理进度: 100%|█████████▉| 221/222 [30:38<00:10, 10.92s/对]"
     ]
    },
    {
     "name": "stdout",
     "output_type": "stream",
     "text": [
      "API请求错误: HTTPSConnectionPool(host='ark.cn-beijing.volces.com', port=443): Read timed out. (read timeout=10)\n"
     ]
    },
    {
     "name": "stderr",
     "output_type": "stream",
     "text": [
      "处理进度: 100%|██████████| 222/222 [30:50<00:00,  8.33s/对]"
     ]
    },
    {
     "name": "stdout",
     "output_type": "stream",
     "text": [
      "\n",
      "分级统计结果:\n",
      "简单: 130个\n",
      "中等: 23个\n",
      "困难: 2个\n",
      "未知: 67个\n",
      "\n",
      "所有问答难度分级已完成，结果保存在： D:\\火力全开的项目实践\\宏利 pdf 文件\\测试集\\data\\QA_level（QA对）(2).json\n"
     ]
    },
    {
     "name": "stderr",
     "output_type": "stream",
     "text": [
      "\n"
     ]
    }
   ],
   "source": [
    "import json\n",
    "import requests\n",
    "import time\n",
    "from tqdm import tqdm\n",
    "from opencc import OpenCC\n",
    "import jieba\n",
    "\n",
    "API_KEY = \"d601827e-cd0d-41e2-9c0a-32e424214e6a\"  \n",
    "API_URL = \"https://ark.cn-beijing.volces.com/api/v3/chat/completions\"\n",
    "HEADERS = {\n",
    "    \"Content-Type\": \"application/json\",\n",
    "    \"Authorization\": f\"Bearer {API_KEY}\"\n",
    "}\n",
    "\n",
    "cc = OpenCC('t2s')\n",
    "\n",
    "def tokenize(text):\n",
    "    \"\"\"中文分词函数\"\"\"\n",
    "    return list(jieba.cut(text))\n",
    "\n",
    "def build_prompt(question, answer):\n",
    "    return f\"\"\"\n",
    "你是一位保险领域的资深专家，请根据以下问答对的复杂程度和详细程度，将其划分为\"简单\"、\"中等\"或\"困难\"三个等级。\n",
    "\n",
    "### 划分标准：\n",
    "1. 简单：问题直接明确，答案简短，涉及基本保险概念或简单流程，无需复杂推理与专业知识\n",
    "   - 示例：问题 “使用宏利信用卡支付保费有哪些限制条件？”，答案清晰列出几个条件，表述直接。\n",
    "   - 特征：答案信息能直接从文档中明确找到，无需复杂推理。问题不涉及多个概念的综合理解，仅针对单一明确信息。答案无需额外的背景知识或行业经验即可理解。答案内容简短，通常为一句话或几个简单句子就能完整回答。属于常见的基础问题，如基本的操作步骤、常见政策规定等，不涉及特殊情况或复杂场景。\n",
    "\n",
    "2. 中等：问题有一定复杂度，答案需整合多处信息并进行一定推理，涉及常见保险场景与概念\n",
    "   - 示例：问题 “如果保单账户余额不足导致无法扣除月费，会有什么后果？”，答案需考虑宽限期等情况并详细说明。\n",
    "   - 特征：答案需要在文档中综合多处信息才能得出。问题涉及一定的概念理解，但不是特别专业或生僻。需要一定的逻辑推理来整合信息回答问题。答案包含多个步骤或要点，但结构相对清晰。可能需要对某些条款或概念进行一定的解释。问题涉及一定的场景变化或条件限制，但不是特别复杂。不是最常见的问题，但也不是非常罕见的情况。\n",
    "\n",
    "3. 困难：问题复杂，涉及专业保险术语、特殊场景和综合分析，答案需大量专业知识和深入解读\n",
    "   - 示例：问题 “如果保险的次位受益人是未成年人，为什么不能由首位受益人担任其信托人？”，答案需解释背后的逻辑矛盾。\n",
    "   - 特征：答案难以从文档中直接获取，需要深入分析和解读大量信息。问题涉及专业的保险术语、复杂的条款细则。需要丰富的行业背景知识和经验才能准确理解问题和回答。答案内容冗长，包含多个复杂的步骤、条件和解释。可能涉及多种情况的分析和对比。问题描述的场景复杂，包含多个变量和特殊情况。属于不常见的问题，需要考虑多种因素的综合影响。\n",
    "\n",
    "### 评估维度：\n",
    "1. 信息获取的难易程度\n",
    "2. 问题涉及概念的复杂程度\n",
    "3. 答案的复杂度和长度\n",
    "4. 问题场景的复杂程度\n",
    "\n",
    "### 待评估QA对：\n",
    "问题：{question}\n",
    "回答：{answer}\n",
    "\n",
    "### 输出要求：\n",
    "请严格按以下JSON格式回应：\n",
    "{{\n",
    "    \"difficulty\": \"简单|中等|困难\",\n",
    "    \"reason\": \"分级理由说明\"\n",
    "}}\n",
    "\"\"\"\n",
    "\n",
    "def classify_qa_pair(question, answer):\n",
    "    prompt = build_prompt(question, answer)\n",
    "    data = {\n",
    "        \"model\": \"doubao-1-5-thinking-pro-250415\", \n",
    "        \"messages\": [{\"role\": \"user\", \"content\": prompt}],\n",
    "        \"temperature\": 0.3,\n",
    "        \"response_format\": {\"type\": \"json_object\"}  \n",
    "    }\n",
    "    \n",
    "    try:\n",
    "        response = requests.post(API_URL, headers=HEADERS, json=data, timeout=10)\n",
    "        response.raise_for_status()  \n",
    "        \n",
    "        result = response.json()\n",
    "        \n",
    "        if \"choices\" in result:\n",
    "            content = result[\"choices\"][0][\"message\"][\"content\"]\n",
    "        elif \"result\" in result:  \n",
    "            content = result[\"result\"]\n",
    "        else:\n",
    "            content = json.dumps({\"difficulty\": \"未知\", \"reason\": \"API响应格式不符\"})\n",
    "            \n",
    "        try:\n",
    "            json.loads(content) \n",
    "            return content\n",
    "        except json.JSONDecodeError:\n",
    "            return json.dumps({\"difficulty\": \"未知\", \"reason\": \"API返回非JSON格式\"})\n",
    "            \n",
    "    except requests.exceptions.RequestException as e:\n",
    "        print(f\"API请求错误: {str(e)}\")\n",
    "        return json.dumps({\"difficulty\": \"未知\", \"reason\": f\"API请求错误: {str(e)}\"})\n",
    "    except Exception as e:\n",
    "        print(f\"处理异常: {str(e)}\")\n",
    "        return json.dumps({\"difficulty\": \"未知\", \"reason\": f\"处理异常: {str(e)}\"})\n",
    "\n",
    "def process_testset(qa_file, output_file):\n",
    "    with open(qa_file, \"r\", encoding=\"utf-8\") as f:\n",
    "        qa_list = json.load(f)\n",
    "\n",
    "    results = []\n",
    "    stats = {\"简单\": 0, \"中等\": 0, \"困难\": 0, \"未知\": 0}\n",
    "    \n",
    "    print(\"\\n开始处理QA对难度分级...\\n\")\n",
    "    \n",
    "    for item in tqdm(qa_list, desc=\"处理进度\", unit=\"对\"):\n",
    "        question = item.get(\"question\", \"\")\n",
    "        answer = item.get(\"answer\", \"\")\n",
    "        \n",
    "        try:\n",
    "            classification = classify_qa_pair(question, answer)\n",
    "            classification_data = json.loads(classification)\n",
    "            \n",
    "            item[\"difficulty\"] = classification_data.get(\"difficulty\", \"未知\")\n",
    "            item[\"difficulty_reason\"] = classification_data.get(\"reason\", \"\")\n",
    "            \n",
    "            stats[item[\"difficulty\"]] += 1\n",
    "        except json.JSONDecodeError:\n",
    "            item[\"difficulty\"] = \"未知\"\n",
    "            item[\"difficulty_reason\"] = \"响应解析失败\"\n",
    "            stats[\"未知\"] += 1\n",
    "        \n",
    "        results.append(item)\n",
    "        time.sleep(1)  \n",
    "\n",
    "    with open(output_file, \"w\", encoding=\"utf-8\") as f:\n",
    "        json.dump(results, f, ensure_ascii=False, indent=2)\n",
    "    \n",
    "    print(\"\\n分级统计结果:\")\n",
    "    for level, count in stats.items():\n",
    "        print(f\"{level}: {count}个\")\n",
    "    print(\"\\n所有问答难度分级已完成，结果保存在：\", output_file)\n",
    "\n",
    "if __name__ == \"__main__\":\n",
    "    process_testset(\n",
    "        r\"D:\\火力全开的项目实践\\宏利 pdf 文件\\测试集\\data\\QA4.json\",    \n",
    "        r\"D:\\火力全开的项目实践\\宏利 pdf 文件\\测试集\\data\\QA_level（QA对）(2).json\"          \n",
    "    )"
   ]
  },
  {
   "cell_type": "markdown",
   "id": "0d21f675",
   "metadata": {},
   "source": [
    "再修改提示词，改用模型：deepseek，结果未知变多，效果更差了"
   ]
  },
  {
   "cell_type": "code",
   "execution_count": null,
   "id": "b8244fb9",
   "metadata": {},
   "outputs": [
    {
     "name": "stdout",
     "output_type": "stream",
     "text": [
      "\n",
      "开始处理QA对难度分级...\n",
      "\n"
     ]
    },
    {
     "name": "stderr",
     "output_type": "stream",
     "text": [
      "处理进度: 100%|██████████| 222/222 [17:46<00:00,  4.80s/对]"
     ]
    },
    {
     "name": "stdout",
     "output_type": "stream",
     "text": [
      "\n",
      "分级统计结果:\n",
      "简单: 2个\n",
      "中等: 37个\n",
      "困难: 3个\n",
      "未知: 180个\n",
      "\n",
      "所有问答难度分级已完成，结果保存在： D:\\火力全开的项目实践\\宏利 pdf 文件\\测试集\\data\\QA_level（QA对）(3).json\n"
     ]
    },
    {
     "name": "stderr",
     "output_type": "stream",
     "text": [
      "\n"
     ]
    }
   ],
   "source": [
    "import json\n",
    "import requests\n",
    "import time\n",
    "from tqdm import tqdm\n",
    "from opencc import OpenCC\n",
    "import jieba\n",
    "\n",
    "API_KEY = \"ef364c37-1e5a-4c34-8768-17bc5bafa152\"  \n",
    "API_URL = \"https://ark.cn-beijing.volces.com/api/v3/chat/completions\"\n",
    "HEADERS = {\n",
    "    \"Content-Type\": \"application/json\",\n",
    "    \"Authorization\": f\"Bearer {API_KEY}\"\n",
    "}\n",
    "\n",
    "cc = OpenCC('t2s')\n",
    "\n",
    "def tokenize(text):\n",
    "    \"\"\"中文分词函数\"\"\"\n",
    "    return list(jieba.cut(text))\n",
    "\n",
    "def build_prompt(question, answer):\n",
    "    return f\"\"\"\n",
    "你是一位保险领域的资深专家，请根据以下问答对的复杂程度和详细程度，将其划分为\"简单\"、\"中等\"或\"困难\"三个等级。\n",
    "\n",
    "### 划分标准：\n",
    "1. 简单：\n",
    "   - 问题特征：问题表述清晰直接，指向明确，无需额外解读，通常询问单一、具体的信息，如办理某项手续所需的表格、某个事件的直接后果等。\n",
    "   - 答案特征：答案能直接从文本中找到，无需对信息进行整合、推理或补充额外知识，问题与答案的对应关系一目了然。\n",
    "   - 示例：问题 “使用宏利信用卡支付保费有哪些限制条件？”，答案清晰列出几个条件，表述直接。\n",
    "\n",
    "2. 中等：\n",
    "   - 问题特征：问题可能涉及多个方面或步骤，需要对相关信息进行一定的梳理和整合才能理解问题核心，或者需要在多个条件下进行判断。\n",
    "   - 答案特征：答案需要对文本中的信息进行整合、归纳或一定的理解，可能涉及多个条件或步骤的组合，但不需要深入的逻辑推理或额外的专业知识背景。\n",
    "   - 示例：问题 “如果保单账户余额不足导致无法扣除月费，会有什么后果？”，答案需考虑宽限期等情况进行说明。\n",
    "\n",
    "3. 困难：\n",
    "   - 问题特征：问题具有一定的复杂性，可能涉及专业概念、复杂逻辑关系或多条件的综合判断，需要对保险业务有一定的理解才能准确把握问题意图。\n",
    "   - 答案特征：答案需要进行复杂的逻辑推理、多条件判断或结合一定的保险知识背景，问题和答案之间的关系不直观，需要深入分析文本内容。\n",
    "   - 示例：问题 “如果保险的次位受益人是未成年人，为什么不能由首位受益人担任其信托人？”，答案需解释背后的逻辑矛盾。\n",
    "\n",
    "   \n",
    "### 评估维度：\n",
    "1. 信息获取的难易程度\n",
    "2. 问题涉及概念的复杂程度\n",
    "3. 答案的复杂度和长度\n",
    "4. 问题场景的复杂程度\n",
    "\n",
    "### 待评估QA对：\n",
    "问题：{question}\n",
    "回答：{answer}\n",
    "\n",
    "### 输出要求：\n",
    "请严格按以下JSON格式回应：\n",
    "{{\n",
    "    \"difficulty\": \"简单|中等|困难\",\n",
    "    \"reason\": \"分级理由说明\"\n",
    "}}\n",
    "\"\"\"\n",
    "\n",
    "def classify_qa_pair(question, answer):\n",
    "    prompt = build_prompt(question, answer)\n",
    "    data = {\n",
    "        \"model\": \"deepseek-v3-250324\",  \n",
    "        \"messages\": [{\"role\": \"user\", \"content\": prompt}],\n",
    "        \"temperature\": 0.3,\n",
    "        \"response_format\": {\"type\": \"json_object\"}  \n",
    "    }\n",
    "    \n",
    "    try:\n",
    "        response = requests.post(API_URL, headers=HEADERS, json=data, timeout=10)\n",
    "        response.raise_for_status()  \n",
    "        \n",
    "        result = response.json()\n",
    "        \n",
    "        if \"choices\" in result:\n",
    "            content = result[\"choices\"][0][\"message\"][\"content\"]\n",
    "        elif \"result\" in result:  \n",
    "            content = result[\"result\"]\n",
    "        else:\n",
    "            content = json.dumps({\"difficulty\": \"未知\", \"reason\": \"API响应格式不符\"})\n",
    "            \n",
    "        try:\n",
    "            json.loads(content)  \n",
    "            return content\n",
    "        except json.JSONDecodeError:\n",
    "            return json.dumps({\"difficulty\": \"未知\", \"reason\": \"API返回非JSON格式\"})\n",
    "            \n",
    "    except requests.exceptions.RequestException as e:\n",
    "        print(f\"API请求错误: {str(e)}\")\n",
    "        return json.dumps({\"difficulty\": \"未知\", \"reason\": f\"API请求错误: {str(e)}\"})\n",
    "    except Exception as e:\n",
    "        print(f\"处理异常: {str(e)}\")\n",
    "        return json.dumps({\"difficulty\": \"未知\", \"reason\": f\"处理异常: {str(e)}\"})\n",
    "\n",
    "def process_testset(qa_file, output_file):\n",
    "    with open(qa_file, \"r\", encoding=\"utf-8\") as f:\n",
    "        qa_list = json.load(f)\n",
    "\n",
    "    results = []\n",
    "    stats = {\"简单\": 0, \"中等\": 0, \"困难\": 0, \"未知\": 0}\n",
    "    \n",
    "    print(\"\\n开始处理QA对难度分级...\\n\")\n",
    "    \n",
    "    for item in tqdm(qa_list, desc=\"处理进度\", unit=\"对\"):\n",
    "        question = item.get(\"question\", \"\")\n",
    "        answer = item.get(\"answer\", \"\")\n",
    "        \n",
    "        try:\n",
    "            classification = classify_qa_pair(question, answer)\n",
    "            classification_data = json.loads(classification)\n",
    "            \n",
    "            item[\"difficulty\"] = classification_data.get(\"difficulty\", \"未知\")\n",
    "            item[\"difficulty_reason\"] = classification_data.get(\"reason\", \"\")\n",
    "            \n",
    "            stats[item[\"difficulty\"]] += 1\n",
    "        except json.JSONDecodeError:\n",
    "            item[\"difficulty\"] = \"未知\"\n",
    "            item[\"difficulty_reason\"] = \"响应解析失败\"\n",
    "            stats[\"未知\"] += 1\n",
    "        \n",
    "        results.append(item)\n",
    "        time.sleep(1)  \n",
    "\n",
    "    with open(output_file, \"w\", encoding=\"utf-8\") as f:\n",
    "        json.dump(results, f, ensure_ascii=False, indent=2)\n",
    "    \n",
    "    print(\"\\n分级统计结果:\")\n",
    "    for level, count in stats.items():\n",
    "        print(f\"{level}: {count}个\")\n",
    "    print(\"\\n所有问答难度分级已完成，结果保存在：\", output_file)\n",
    "\n",
    "if __name__ == \"__main__\":\n",
    "    process_testset(\n",
    "        r\"D:\\火力全开的项目实践\\宏利 pdf 文件\\测试集\\data\\QA4.json\",    \n",
    "        r\"D:\\火力全开的项目实践\\宏利 pdf 文件\\测试集\\data\\QA_level（QA对）(3).json\"          \n",
    "    )"
   ]
  },
  {
   "cell_type": "markdown",
   "id": "91c5902c",
   "metadata": {},
   "source": [
    "放弃对已有QA对进行分等级，尝试结合生成QA对这一步，对提示词增加问题类型与难度等级，问题类型包括是什么、为什么、怎么做，难度等级为简单、中等、困难，模型：deepseek-r1\n",
    "效果：问题类型都是是什么，难度等级简单较多"
   ]
  },
  {
   "cell_type": "code",
   "execution_count": 15,
   "id": "914cfc21",
   "metadata": {},
   "outputs": [
    {
     "name": "stdout",
     "output_type": "stream",
     "text": [
      "JSON 解析错误: Invalid \\escape: line 8 column 189 (char 544)\n",
      "重试 1/2 - 文件 守护无间危疾保 保单条款_2022_07.md 第12段（页码：33）：无法解析 JSON\n",
      "JSON 解析错误: Invalid \\escape: line 8 column 192 (char 574)\n",
      "重试 2/2 - 文件 守护无间危疾保 保单条款_2022_07.md 第12段（页码：33）：无法解析 JSON\n",
      "错误 - 文件 守护无间危疾保 保单条款_2022_07.md 第12段（页码：33）：达到最大重试次数，无法获取有效数据\n",
      "JSON 解析错误: Invalid \\escape: line 8 column 203 (char 527)\n",
      "重试 1/2 - 文件 守护无间危疾保 保单条款_2022_07.md 第15段（页码：39）：无法解析 JSON\n",
      "JSON 解析错误: Invalid \\escape: line 8 column 203 (char 567)\n",
      "重试 2/2 - 文件 守护无间危疾保 保单条款_2022_07.md 第15段（页码：39）：无法解析 JSON\n",
      "错误 - 文件 守护无间危疾保 保单条款_2022_07.md 第15段（页码：39）：达到最大重试次数，无法获取有效数据\n",
      "JSON 解析错误: Invalid \\escape: line 8 column 53 (char 293)\n",
      "重试 1/2 - 文件 守护无间危疾保 保单条款_2022_07.md 第16段（页码：42）：无法解析 JSON\n",
      "JSON 解析错误: Invalid \\escape: line 8 column 53 (char 263)\n",
      "重试 2/2 - 文件 守护无间危疾保 保单条款_2022_07.md 第16段（页码：42）：无法解析 JSON\n",
      "错误 - 文件 守护无间危疾保 保单条款_2022_07.md 第16段（页码：42）：达到最大重试次数，无法获取有效数据\n",
      "\n",
      "成功保存 13 个高质量 QA 对到 D:\\火力全开的项目实践\\宏利 pdf 文件\\测试集\\data\\QA6(7)(2).json\n"
     ]
    }
   ],
   "source": [
    "import os\n",
    "import json\n",
    "import re\n",
    "from openai import OpenAI\n",
    "\n",
    "\n",
    "class CHAT_MODEL:\n",
    "    def __init__(self, api_key, base_url, model_name):\n",
    "        self.llm = OpenAI(api_key=api_key, base_url=base_url)\n",
    "        self.model_name = model_name\n",
    "\n",
    "    def chat(self, user_prompt):\n",
    "        completion = self.llm.chat.completions.create(\n",
    "            model=self.model_name,\n",
    "            messages=[{\"role\": \"user\", \"content\": user_prompt}],\n",
    "        )\n",
    "        return completion.choices[0].message.content\n",
    "\n",
    "\n",
    "def extract_segments_with_page(md_text, max_segments=5, min_len=50):\n",
    "    # 使用页码标题分割，如 ## 第3页\n",
    "    page_splits = re.split(r'#+\\s*第\\s*(\\d+)\\s*页', md_text)\n",
    "    segments = []\n",
    "\n",
    "    if len(page_splits) <= 1:\n",
    "        # 如果没有页码标识，按整段分\n",
    "        raw_paragraphs = re.split(r'\\n\\s*\\n', md_text)\n",
    "        for para in raw_paragraphs:\n",
    "            para = para.strip()\n",
    "            if len(para) >= min_len:\n",
    "                segments.append((\"未知页码\", para))\n",
    "    else:\n",
    "        for i in range(1, len(page_splits), 2):\n",
    "            page = int(page_splits[i])\n",
    "            # 跳过第 0 页和第 1 页\n",
    "            if page in [0, 1,2]:\n",
    "                continue\n",
    "            content = page_splits[i + 1]\n",
    "            paragraphs = re.split(r'\\n\\s*\\n', content)\n",
    "            for para in paragraphs:\n",
    "                para = para.strip()\n",
    "                if len(para) >= min_len:\n",
    "                    segments.append((f\"{page}\", para))\n",
    "\n",
    "    total = len(segments)\n",
    "    if total <= max_segments:\n",
    "        return segments\n",
    "    step = total // max_segments\n",
    "    return [segments[i] for i in range(0, total, step)][:max_segments]\n",
    "\n",
    "\n",
    "def build_prompt(few_shot_examples, text_segment):\n",
    "    prompt = (\n",
    "        \"作为资深保险条款分析师，请根据以下文档内容生成高质量问答对。要求如下：\\n\\n\"\n",
    "        \"### 核心要求（保留您原有标准）\\n\"\n",
    "        \"1. 问题必须模拟真实业务场景需求，例如：\\n\"\n",
    "        \"   - 理赔流程、免责条款、适用场景、利益比较等\\n\"\n",
    "        \"   - 避免简单信息复述，要体现实际业务疑问\\n\"\n",
    "        \"2. 答案需满足：\\n\"\n",
    "        \"   - 基于文档内容但重组表达，不得直接照抄\\n\"\n",
    "        \"   - 逻辑严谨，信息完整准确\\n\"\n",
    "        \"   - 可跨段落综合，但需注明引用来源\\n\\n\"\n",
    "        \"### 新增规范\\n\"\n",
    "        \"1. 问题类型标注（必须三选一）：\\n\"\n",
    "        \"   ▸ 【是什么】定义解释类（如：什么是保单现金价值？）\\n\"\n",
    "        \"   ▸ 【为什么】原因分析类（如：为什么需要健康告知？）\\n\"\n",
    "        \"   ▸ 【怎么做】操作流程类（如：如何办理保单贷款？）\\n\\n\"\n",
    "        \"2. 难度等级标注（必须三选一）：\\n\"\n",
    "        \"   ▸ 【简单】单概念问题（答案1-2句话）\\n\"\n",
    "        \"   ▸ 【中等】多要素问题（答案含步骤或条件）\\n\"\n",
    "        \"   ▸ 【困难】综合分析问题（需跨章节引用）\\n\\n\"\n",
    "        \"### 输出格式（升级版）\\n\"\n",
    "        \"```json\\n\"\n",
    "        \"{\\n\"\n",
    "        '  \"question\": \"问题内容（使用客户自然语言表达）\",\\n'\n",
    "        '  \"answer\": \"答案（分点陈述，必要时用序号标注步骤）\",\\n'\n",
    "        '  \"qa_type\": \"是什么/为什么/怎么做\",\\n'\n",
    "        '  \"difficulty\": \"简单/中等/困难\",\\n'\n",
    "        '  \"source_file\": \"文档名称\",\\n'\n",
    "        '  \"page_num\": \"页码\",\\n'\n",
    "        '  \"content\": \"引用的原始文本片段\"\\n'\n",
    "        \"}\\n\"\n",
    "        \"```\\n\\n\"\n",
    "        \"### 您原有的问题范例（现增加分类标注）\\n\"\n",
    "        \"▸ 什么是...？ 【是什么】\\n\"\n",
    "        \"▸ 是否可以说...？ 【为什么】\\n\"\n",
    "        \"▸ 如果...会怎样？ 【怎么做】\\n\"\n",
    "        \"▸ 为什么...会发生？ 【为什么】\\n\"\n",
    "        \"▸ ...的好处是什么？ 【是什么】\\n\\n\"\n",
    "        \"### 参考案例\\n\"\n",
    "        \"【示例1-理赔场景】\\n\" + few_shot_examples[0] + \"\\n\\n\"\n",
    "        \"【示例2-条款解释】\\n\" + few_shot_examples[1] + \"\\n\\n\"\n",
    "        \"### 待分析内容\\n\"\n",
    "        f\"{text_segment}\\n\\n\"\n",
    "        \"请生成符合所有要求的JSON输出：\"\n",
    "    )\n",
    "    return prompt\n",
    "\n",
    "\n",
    "def parse_json(response):\n",
    "    lines = response.splitlines()\n",
    "    start_index = None\n",
    "    end_index = None\n",
    "    for i, line in enumerate(lines):\n",
    "        if '{' in line:\n",
    "            start_index = i\n",
    "        if '}' in line and start_index is not None:\n",
    "            end_index = i\n",
    "            break\n",
    "    if start_index is not None and end_index is not None:\n",
    "        json_str = '\\n'.join(lines[start_index:end_index + 1])\n",
    "        try:\n",
    "            return json.loads(json_str)\n",
    "        except json.JSONDecodeError as e:\n",
    "            print(f\"JSON 解析错误: {e}\")\n",
    "    return None\n",
    "\n",
    "\n",
    "def main():\n",
    "    input_folder = r\"D:\\火力全开的项目实践\\宏利 pdf 文件\\测试集\\data\\data\\(7)\"\n",
    "    output_file = r\"D:\\火力全开的项目实践\\宏利 pdf 文件\\测试集\\data\\QA6(7)(2).json\"\n",
    "    qa_per_doc = 16\n",
    "    api_key = \"c751d97c-ba64-4a9a-afad-a0db5b88dc37\"\n",
    "    base_url = \"https://ark.cn-beijing.volces.com/api/v3\"\n",
    "    model_name = \"deepseek-r1-distill-qwen-32b-250120\"\n",
    "\n",
    "    chat_model = CHAT_MODEL(api_key=api_key, base_url=base_url, model_name=model_name)\n",
    "\n",
    "    few_shot_examples = [\n",
    "        '''{\n",
    "\"question\": \"投资相连寿险保单过了宽限期还没缴费会怎样？\",\n",
    "\"answer\": \"灵活投资宝/万利保障计划/宏宝保单将享有30日宽限期。若过后仍未缴费，客户会收到保单失效通知书，说明如何复效。\",\n",
    "\"source_file\": \"电子行政运作手册_保单行政_2023_10.md\",\n",
    "\"page_num\": \"6\",\n",
    "\"content\": \"投資相連壽險計劃保單...將享有30日的寬限期...\" }''',\n",
    "        '''{\n",
    "\"question\": \"什么情况下保险顾问的营业积分会被扣回？\",\n",
    "\"answer\": \"若某月结日的净已缴保费低于两个月前月结日的净已缴保费，保险顾问的积分将被扣回。\",\n",
    "\"source_file\": \"电子行政运作手册_保单行政_2023_10.md\",\n",
    "\"page_num\": \"7\",\n",
    "\"content\": \"於第一年淨保費測試...若（N）月結日的淨已繳保費 ≤（N–2）月結日...\" }'''\n",
    "    ]\n",
    "\n",
    "    results = []\n",
    "\n",
    "    for filename in os.listdir(input_folder):\n",
    "        if not filename.endswith(\".md\"):\n",
    "            continue\n",
    "        file_path = os.path.join(input_folder, filename)\n",
    "        with open(file_path, \"r\", encoding=\"utf-8\") as f:\n",
    "            content = f.read()\n",
    "\n",
    "        segments = extract_segments_with_page(content, max_segments=qa_per_doc)\n",
    "\n",
    "        for idx, (page, segment) in enumerate(segments):\n",
    "            prompt = build_prompt(few_shot_examples, segment)\n",
    "            max_retries =2\n",
    "            for retry in range(max_retries):\n",
    "                try:\n",
    "                    response = chat_model.chat(prompt)\n",
    "                    parsed = parse_json(response)\n",
    "                    if parsed is not None:\n",
    "                        parsed[\"source_file\"] = filename\n",
    "                        parsed[\"page_num\"] = page\n",
    "                        parsed[\"content\"] = segment\n",
    "                        results.append(parsed)\n",
    "                        break\n",
    "                    else:\n",
    "                        print(f\"重试 {retry + 1}/{max_retries} - 文件 {filename} 第{idx + 1}段（页码：{page}）：无法解析 JSON\")\n",
    "                except Exception as e:\n",
    "                    print(f\"重试 {retry + 1}/{max_retries} - 文件 {filename} 第{idx + 1}段（页码：{page}）：{e}\")\n",
    "            else:\n",
    "                print(f\"错误 - 文件 {filename} 第{idx + 1}段（页码：{page}）：达到最大重试次数，无法获取有效数据\")\n",
    "\n",
    "    valid_results = []\n",
    "    for result in results:\n",
    "        question = result.get(\"question\", \"\").strip()\n",
    "        answer = result.get(\"answer\", \"\").strip()\n",
    "        if len(question) > 5 and len(answer) > 10:\n",
    "            valid_results.append(result)\n",
    "\n",
    "    with open(output_file, \"w\", encoding=\"utf-8\") as f:\n",
    "        json.dump(valid_results, f, ensure_ascii=False, indent=2)\n",
    "\n",
    "    print(f\"\\n成功保存 {len(valid_results)} 个高质量 QA 对到 {output_file}\")\n",
    "\n",
    "\n",
    "if __name__ == \"__main__\":\n",
    "    main()"
   ]
  },
  {
   "cell_type": "markdown",
   "id": "a4b7fcfe",
   "metadata": {},
   "source": [
    "！！！！丰富提示词，模型：deepseek-r1，新增比例规定，3：5：2和3：3：4\n",
    "效果：难度等级比例符合要求，但问题类型都是 是什么"
   ]
  },
  {
   "cell_type": "code",
   "execution_count": 17,
   "id": "fb816a27",
   "metadata": {},
   "outputs": [
    {
     "name": "stdout",
     "output_type": "stream",
     "text": [
      "JSON 解析错误: Invalid \\escape: line 8 column 70 (char 283)\n",
      "重试 1/2 - 文件 守护无间危疾保 保单条款_2022_07.md 第7段（页码：31）：无法解析 JSON\n",
      "JSON 解析错误: Invalid \\escape: line 8 column 70 (char 284)\n",
      "重试 2/2 - 文件 守护无间危疾保 保单条款_2022_07.md 第7段（页码：31）：无法解析 JSON\n",
      "错误 - 文件 守护无间危疾保 保单条款_2022_07.md 第7段（页码：31）：达到最大重试次数，无法获取有效数据\n",
      "\n",
      "成功保存 9 个高质量 QA 对到 D:\\火力全开的项目实践\\宏利 pdf 文件\\测试集\\data\\QA6(7)(352).json\n"
     ]
    }
   ],
   "source": [
    "import os\n",
    "import json\n",
    "import re\n",
    "from openai import OpenAI\n",
    "\n",
    "\n",
    "class CHAT_MODEL:\n",
    "    def __init__(self, api_key, base_url, model_name):\n",
    "        self.llm = OpenAI(api_key=api_key, base_url=base_url)\n",
    "        self.model_name = model_name\n",
    "\n",
    "    def chat(self, user_prompt):\n",
    "        completion = self.llm.chat.completions.create(\n",
    "            model=self.model_name,\n",
    "            messages=[{\"role\": \"user\", \"content\": user_prompt}],\n",
    "        )\n",
    "        return completion.choices[0].message.content\n",
    "\n",
    "\n",
    "def extract_segments_with_page(md_text, max_segments=5, min_len=50):\n",
    "    # 使用页码标题分割，如 ## 第3页\n",
    "    page_splits = re.split(r'#+\\s*第\\s*(\\d+)\\s*页', md_text)\n",
    "    segments = []\n",
    "\n",
    "    if len(page_splits) <= 1:\n",
    "        # 如果没有页码标识，按整段分\n",
    "        raw_paragraphs = re.split(r'\\n\\s*\\n', md_text)\n",
    "        for para in raw_paragraphs:\n",
    "            para = para.strip()\n",
    "            if len(para) >= min_len:\n",
    "                segments.append((\"未知页码\", para))\n",
    "    else:\n",
    "        for i in range(1, len(page_splits), 2):\n",
    "            page = int(page_splits[i])\n",
    "            # 跳过第 0 页和第 1 页\n",
    "            if page in [0, 1,2]:\n",
    "                continue\n",
    "            content = page_splits[i + 1]\n",
    "            paragraphs = re.split(r'\\n\\s*\\n', content)\n",
    "            for para in paragraphs:\n",
    "                para = para.strip()\n",
    "                if len(para) >= min_len:\n",
    "                    segments.append((f\"{page}\", para))\n",
    "\n",
    "    total = len(segments)\n",
    "    if total <= max_segments:\n",
    "        return segments\n",
    "    step = total // max_segments\n",
    "    return [segments[i] for i in range(0, total, step)][:max_segments]\n",
    "\n",
    "\n",
    "def build_prompt(few_shot_examples, text_segment):\n",
    "    prompt = (\n",
    "        \"你是一个资深保险条款分析师，任务是基于以下多个保险文档内容，生成用户可能会提出的业务相关问题，并结合文档信息提供专业、准确、结构清晰的回答。\\n\\n\"\n",
    "        \"请根据以下文档内容，生成一个高质量的问题和答案对。问题应贴近实际业务场景，答案应清晰、信息丰富。\\n\\n\"\n",
    "        \"### 核心要求（保留您原有标准）\\n\"\n",
    "        \"1. 问题必须模拟真实用户的业务需求或疑问，例如理赔流程、免责条款、适用场景、利益比较等，不是简单的信息回述或定义解释。\\n\"\n",
    "        \"2. 答案可以综合多个文档片段的内容，但必须确保准确，逻辑严谨，不得凭空捏造。\\n\"\n",
    "        \"3. 回答中如引用到不同文档，请明确列出引用的文档名称与页码。\\n\\n\"\n",
    "        \"4. 问题属于三种难度等级的数量要尽量符合简单：中等：困难=3：5：2。\\n\"\n",
    "        \"问题部分：围绕一个核心主题提出一个问题，语言表达应贴近用户常见问法，如：\\n\"\n",
    "        \"    - 什么是...？\\n\"\n",
    "        \"    - 是否可以说...？\\n\"\n",
    "        \"    - 请解释一下...的含义\\n\"\n",
    "        \"    - 如果...会怎样？\\n\"\n",
    "        \"    - 能否举个例子说明...？\\n\"\n",
    "        \"    - 为什么...会发生？\\n\"\n",
    "        \"    - ...的好处是什么？\\n\"\n",
    "        \"答案部分：逻辑清晰，内容完整。不得照抄原文，应体现理解和重组能力。\\n\\n\"\n",
    "        \"### 新增规范\\n\"\n",
    "        \"1. 问题类型标注（必须三选一）：\\n\"\n",
    "        \"   ▸ 【是什么】定义解释类（如：什么是保单现金价值？）\\n\"\n",
    "        \"   ▸ 【为什么】原因分析类（如：为什么需要健康告知？）\\n\"\n",
    "        \"   ▸ 【怎么做】操作流程类（如：如何办理保单贷款？）\\n\\n\"\n",
    "        \"2. 难度等级标注（必须三选一）：\\n\"\n",
    "        \"   ▸ 【简单】单概念问题（答案1-2句话）\\n\"\n",
    "        \"   ▸ 【中等】多要素问题（答案含步骤或条件）\\n\"\n",
    "        \"   ▸ 【困难】综合分析问题（需跨章节引用）\\n\\n\"\n",
    "        \"### 输出格式（升级版）\\n\"\n",
    "        \"```json\\n\"\n",
    "        \"{\\n\"\n",
    "        '  \"question\": \"问题内容（使用客户自然语言表达）\",\\n'\n",
    "        '  \"answer\": \"答案内容\",\\n'\n",
    "        '  \"qa_type\": \"是什么/为什么/怎么做\",\\n'\n",
    "        '  \"difficulty\": \"简单/中等/困难\",\\n'\n",
    "        '  \"source_file\": \"文档名称\",\\n'\n",
    "        '  \"page_num\": \"页码\",\\n'\n",
    "        '  \"content\": \"引用的原始文本片段\"\\n'\n",
    "        \"}\\n\"\n",
    "        \"```\\n\\n\"\n",
    "        \"### 参考案例\\n\"\n",
    "        \"【示例1-理赔场景】\\n\" + few_shot_examples[0] + \"\\n\\n\"\n",
    "        \"【示例2-条款解释】\\n\" + few_shot_examples[1] + \"\\n\\n\"\n",
    "        \"### 待分析内容\\n\"\n",
    "        f\"{text_segment}\\n\\n\"\n",
    "        \"请生成符合所有要求的JSON输出：\"\n",
    "    )\n",
    "    return prompt\n",
    "\n",
    "\n",
    "def parse_json(response):\n",
    "    lines = response.splitlines()\n",
    "    start_index = None\n",
    "    end_index = None\n",
    "    for i, line in enumerate(lines):\n",
    "        if '{' in line:\n",
    "            start_index = i\n",
    "        if '}' in line and start_index is not None:\n",
    "            end_index = i\n",
    "            break\n",
    "    if start_index is not None and end_index is not None:\n",
    "        json_str = '\\n'.join(lines[start_index:end_index + 1])\n",
    "        try:\n",
    "            return json.loads(json_str)\n",
    "        except json.JSONDecodeError as e:\n",
    "            print(f\"JSON 解析错误: {e}\")\n",
    "    return None\n",
    "\n",
    "\n",
    "def main():\n",
    "    input_folder = r\"D:\\火力全开的项目实践\\宏利 pdf 文件\\测试集\\data\\data\\(7)\"\n",
    "    output_file = r\"D:\\火力全开的项目实践\\宏利 pdf 文件\\测试集\\data\\QA6(7)(352).json\"\n",
    "    qa_per_doc = 10\n",
    "    api_key = \"c751d97c-ba64-4a9a-afad-a0db5b88dc37\"\n",
    "    base_url = \"https://ark.cn-beijing.volces.com/api/v3\"\n",
    "    model_name = \"deepseek-r1-distill-qwen-32b-250120\"\n",
    "\n",
    "    chat_model = CHAT_MODEL(api_key=api_key, base_url=base_url, model_name=model_name)\n",
    "\n",
    "    few_shot_examples = [\n",
    "        '''{\n",
    "\"question\": \"投资相连寿险保单过了宽限期还没缴费会怎样？\",\n",
    "\"answer\": \"灵活投资宝/万利保障计划/宏宝保单将享有30日宽限期。若过后仍未缴费，客户会收到保单失效通知书，说明如何复效。\",\n",
    "\"source_file\": \"电子行政运作手册_保单行政_2023_10.md\",\n",
    "\"page_num\": \"6\",\n",
    "\"content\": \"投資相連壽險計劃保單...將享有30日的寬限期...\" }''',\n",
    "        '''{\n",
    "\"question\": \"什么情况下保险顾问的营业积分会被扣回？\",\n",
    "\"answer\": \"若某月结日的净已缴保费低于两个月前月结日的净已缴保费，保险顾问的积分将被扣回。\",\n",
    "\"source_file\": \"电子行政运作手册_保单行政_2023_10.md\",\n",
    "\"page_num\": \"7\",\n",
    "\"content\": \"於第一年淨保費測試...若（N）月結日的淨已繳保費 ≤（N–2）月結日...\" }'''\n",
    "    ]\n",
    "\n",
    "    results = []\n",
    "\n",
    "    for filename in os.listdir(input_folder):\n",
    "        if not filename.endswith(\".md\"):\n",
    "            continue\n",
    "        file_path = os.path.join(input_folder, filename)\n",
    "        with open(file_path, \"r\", encoding=\"utf-8\") as f:\n",
    "            content = f.read()\n",
    "\n",
    "        segments = extract_segments_with_page(content, max_segments=qa_per_doc)\n",
    "\n",
    "        for idx, (page, segment) in enumerate(segments):\n",
    "            prompt = build_prompt(few_shot_examples, segment)\n",
    "            max_retries =2\n",
    "            for retry in range(max_retries):\n",
    "                try:\n",
    "                    response = chat_model.chat(prompt)\n",
    "                    parsed = parse_json(response)\n",
    "                    if parsed is not None:\n",
    "                        parsed[\"source_file\"] = filename\n",
    "                        parsed[\"page_num\"] = page\n",
    "                        parsed[\"content\"] = segment\n",
    "                        results.append(parsed)\n",
    "                        break\n",
    "                    else:\n",
    "                        print(f\"重试 {retry + 1}/{max_retries} - 文件 {filename} 第{idx + 1}段（页码：{page}）：无法解析 JSON\")\n",
    "                except Exception as e:\n",
    "                    print(f\"重试 {retry + 1}/{max_retries} - 文件 {filename} 第{idx + 1}段（页码：{page}）：{e}\")\n",
    "            else:\n",
    "                print(f\"错误 - 文件 {filename} 第{idx + 1}段（页码：{page}）：达到最大重试次数，无法获取有效数据\")\n",
    "\n",
    "    valid_results = []\n",
    "    for result in results:\n",
    "        question = result.get(\"question\", \"\").strip()\n",
    "        answer = result.get(\"answer\", \"\").strip()\n",
    "        if len(question) > 5 and len(answer) > 10:\n",
    "            valid_results.append(result)\n",
    "\n",
    "    with open(output_file, \"w\", encoding=\"utf-8\") as f:\n",
    "        json.dump(valid_results, f, ensure_ascii=False, indent=2)\n",
    "\n",
    "    print(f\"\\n成功保存 {len(valid_results)} 个高质量 QA 对到 {output_file}\")\n",
    "\n",
    "\n",
    "if __name__ == \"__main__\":\n",
    "    main()"
   ]
  },
  {
   "cell_type": "code",
   "execution_count": 20,
   "id": "b3f53de9",
   "metadata": {},
   "outputs": [
    {
     "name": "stdout",
     "output_type": "stream",
     "text": [
      "JSON 解析错误: Invalid \\escape: line 8 column 70 (char 275)\n",
      "重试 1/2 - 文件 守护无间危疾保 保单条款_2022_07.md 第7段（页码：31）：无法解析 JSON\n",
      "JSON 解析错误: Invalid \\escape: line 8 column 70 (char 272)\n",
      "重试 2/2 - 文件 守护无间危疾保 保单条款_2022_07.md 第7段（页码：31）：无法解析 JSON\n",
      "错误 - 文件 守护无间危疾保 保单条款_2022_07.md 第7段（页码：31）：达到最大重试次数，无法获取有效数据\n",
      "\n",
      "成功保存 9 个高质量 QA 对到 D:\\火力全开的项目实践\\宏利 pdf 文件\\测试集\\data\\QA6(7)(352)(334).json\n"
     ]
    }
   ],
   "source": [
    "import os\n",
    "import json\n",
    "import re\n",
    "from openai import OpenAI\n",
    "\n",
    "\n",
    "class CHAT_MODEL:\n",
    "    def __init__(self, api_key, base_url, model_name):\n",
    "        self.llm = OpenAI(api_key=api_key, base_url=base_url)\n",
    "        self.model_name = model_name\n",
    "\n",
    "    def chat(self, user_prompt):\n",
    "        completion = self.llm.chat.completions.create(\n",
    "            model=self.model_name,\n",
    "            messages=[{\"role\": \"user\", \"content\": user_prompt}],\n",
    "        )\n",
    "        return completion.choices[0].message.content\n",
    "\n",
    "\n",
    "def extract_segments_with_page(md_text, max_segments=5, min_len=50):\n",
    "    # 使用页码标题分割，如 ## 第3页\n",
    "    page_splits = re.split(r'#+\\s*第\\s*(\\d+)\\s*页', md_text)\n",
    "    segments = []\n",
    "\n",
    "    if len(page_splits) <= 1:\n",
    "        # 如果没有页码标识，按整段分\n",
    "        raw_paragraphs = re.split(r'\\n\\s*\\n', md_text)\n",
    "        for para in raw_paragraphs:\n",
    "            para = para.strip()\n",
    "            if len(para) >= min_len:\n",
    "                segments.append((\"未知页码\", para))\n",
    "    else:\n",
    "        for i in range(1, len(page_splits), 2):\n",
    "            page = int(page_splits[i])\n",
    "            # 跳过第 0 页和第 1 页\n",
    "            if page in [0, 1,2]:\n",
    "                continue\n",
    "            content = page_splits[i + 1]\n",
    "            paragraphs = re.split(r'\\n\\s*\\n', content)\n",
    "            for para in paragraphs:\n",
    "                para = para.strip()\n",
    "                if len(para) >= min_len:\n",
    "                    segments.append((f\"{page}\", para))\n",
    "\n",
    "    total = len(segments)\n",
    "    if total <= max_segments:\n",
    "        return segments\n",
    "    step = total // max_segments\n",
    "    return [segments[i] for i in range(0, total, step)][:max_segments]\n",
    "\n",
    "\n",
    "def build_prompt(few_shot_examples, text_segment):\n",
    "    prompt = (\n",
    "        \"你是一个资深保险条款分析师，任务是基于以下多个保险文档内容，生成用户可能会提出的业务相关问题，并结合文档信息提供专业、准确、结构清晰的回答。\\n\\n\"\n",
    "        \"请根据以下文档内容，生成一个高质量的问题和答案对。问题应贴近实际业务场景，答案应清晰、信息丰富。\\n\\n\"\n",
    "        \"### 核心要求（保留您原有标准）\\n\"\n",
    "        \"1. 问题必须模拟真实用户的业务需求或疑问，例如理赔流程、免责条款、适用场景、利益比较等，不是简单的信息回述或定义解释。\\n\"\n",
    "        \"2. 答案可以综合多个文档片段的内容，但必须确保准确，逻辑严谨，不得凭空捏造。\\n\"\n",
    "        \"3. 回答中如引用到不同文档，请明确列出引用的文档名称与页码。\\n\\n\"\n",
    "        \"4. 问题属于三种难度等级的数量要尽量符合简单：中等：困难=3：5：2，问题的三种类型的数量要尽量符合是什么：为什么：怎么做=3：3：4。\\n\"\n",
    "        \"问题部分：围绕一个核心主题提出一个问题，语言表达应贴近用户常见问法，如：\\n\"\n",
    "        \"    - 什么是...？\\n\"\n",
    "        \"    - 是否可以说...？\\n\"\n",
    "        \"    - 请解释一下...的含义\\n\"\n",
    "        \"    - 如果...会怎样？\\n\"\n",
    "        \"    - 能否举个例子说明...？\\n\"\n",
    "        \"    - 为什么...会发生？\\n\"\n",
    "        \"    - ...的好处是什么？\\n\"\n",
    "        \"答案部分：逻辑清晰，内容完整。不得照抄原文，应体现理解和重组能力。\\n\\n\"\n",
    "        \"### 新增规范\\n\"\n",
    "        \"1. 问题类型标注：\\n\"\n",
    "        \"   ▸ 【是什么】定义解释类（如：什么是保单现金价值？）\\n\"\n",
    "        \"   ▸ 【为什么】原因分析类（如：为什么需要健康告知？）\\n\"\n",
    "        \"   ▸ 【怎么做】操作流程类（如：如何办理保单贷款？）\\n\\n\"\n",
    "        \"2. 难度等级标注：\\n\"\n",
    "        \"   ▸ 【简单】单概念问题（答案1-2句话）\\n\"\n",
    "        \"   ▸ 【中等】多要素问题（答案含步骤或条件）\\n\"\n",
    "        \"   ▸ 【困难】综合分析问题（需跨章节引用）\\n\\n\"\n",
    "        \"### 输出格式（升级版）\\n\"\n",
    "        \"```json\\n\"\n",
    "        \"{\\n\"\n",
    "        '  \"question\": \"问题内容（使用客户自然语言表达）\",\\n'\n",
    "        '  \"answer\": \"答案内容\",\\n'\n",
    "        '  \"qa_type\": \"是什么/为什么/怎么做\",\\n'\n",
    "        '  \"difficulty\": \"简单/中等/困难\",\\n'\n",
    "        '  \"source_file\": \"文档名称\",\\n'\n",
    "        '  \"page_num\": \"页码\",\\n'\n",
    "        '  \"content\": \"引用的原始文本片段\"\\n'\n",
    "        \"}\\n\"\n",
    "        \"```\\n\\n\"\n",
    "        \"### 参考案例\\n\"\n",
    "        \"【示例1-理赔场景】\\n\" + few_shot_examples[0] + \"\\n\\n\"\n",
    "        \"【示例2-条款解释】\\n\" + few_shot_examples[1] + \"\\n\\n\"\n",
    "        \"### 待分析内容\\n\"\n",
    "        f\"{text_segment}\\n\\n\"\n",
    "        \"请生成符合所有要求的JSON输出：\"\n",
    "    )\n",
    "    return prompt\n",
    "\n",
    "\n",
    "def parse_json(response):\n",
    "    lines = response.splitlines()\n",
    "    start_index = None\n",
    "    end_index = None\n",
    "    for i, line in enumerate(lines):\n",
    "        if '{' in line:\n",
    "            start_index = i\n",
    "        if '}' in line and start_index is not None:\n",
    "            end_index = i\n",
    "            break\n",
    "    if start_index is not None and end_index is not None:\n",
    "        json_str = '\\n'.join(lines[start_index:end_index + 1])\n",
    "        try:\n",
    "            return json.loads(json_str)\n",
    "        except json.JSONDecodeError as e:\n",
    "            print(f\"JSON 解析错误: {e}\")\n",
    "    return None\n",
    "\n",
    "\n",
    "def main():\n",
    "    input_folder = r\"D:\\火力全开的项目实践\\宏利 pdf 文件\\测试集\\data\\data\\(7)\"\n",
    "    output_file = r\"D:\\火力全开的项目实践\\宏利 pdf 文件\\测试集\\data\\QA6(7)(352)(334).json\"\n",
    "    qa_per_doc = 10\n",
    "    api_key = \"c751d97c-ba64-4a9a-afad-a0db5b88dc37\"\n",
    "    base_url = \"https://ark.cn-beijing.volces.com/api/v3\"\n",
    "    model_name = \"deepseek-r1-distill-qwen-32b-250120\"\n",
    "\n",
    "    chat_model = CHAT_MODEL(api_key=api_key, base_url=base_url, model_name=model_name)\n",
    "\n",
    "    few_shot_examples = [\n",
    "        '''{\n",
    "\"question\": \"投资相连寿险保单过了宽限期还没缴费会怎样？\",\n",
    "\"answer\": \"灵活投资宝/万利保障计划/宏宝保单将享有30日宽限期。若过后仍未缴费，客户会收到保单失效通知书，说明如何复效。\",\n",
    "\"source_file\": \"电子行政运作手册_保单行政_2023_10.md\",\n",
    "\"page_num\": \"6\",\n",
    "\"content\": \"投資相連壽險計劃保單...將享有30日的寬限期...\" }''',\n",
    "        '''{\n",
    "\"question\": \"什么情况下保险顾问的营业积分会被扣回？\",\n",
    "\"answer\": \"若某月结日的净已缴保费低于两个月前月结日的净已缴保费，保险顾问的积分将被扣回。\",\n",
    "\"source_file\": \"电子行政运作手册_保单行政_2023_10.md\",\n",
    "\"page_num\": \"7\",\n",
    "\"content\": \"於第一年淨保費測試...若（N）月結日的淨已繳保費 ≤（N–2）月結日...\" }'''\n",
    "    ]\n",
    "\n",
    "    results = []\n",
    "\n",
    "    for filename in os.listdir(input_folder):\n",
    "        if not filename.endswith(\".md\"):\n",
    "            continue\n",
    "        file_path = os.path.join(input_folder, filename)\n",
    "        with open(file_path, \"r\", encoding=\"utf-8\") as f:\n",
    "            content = f.read()\n",
    "\n",
    "        segments = extract_segments_with_page(content, max_segments=qa_per_doc)\n",
    "\n",
    "        for idx, (page, segment) in enumerate(segments):\n",
    "            prompt = build_prompt(few_shot_examples, segment)\n",
    "            max_retries =2\n",
    "            for retry in range(max_retries):\n",
    "                try:\n",
    "                    response = chat_model.chat(prompt)\n",
    "                    parsed = parse_json(response)\n",
    "                    if parsed is not None:\n",
    "                        parsed[\"source_file\"] = filename\n",
    "                        parsed[\"page_num\"] = page\n",
    "                        parsed[\"content\"] = segment\n",
    "                        results.append(parsed)\n",
    "                        break\n",
    "                    else:\n",
    "                        print(f\"重试 {retry + 1}/{max_retries} - 文件 {filename} 第{idx + 1}段（页码：{page}）：无法解析 JSON\")\n",
    "                except Exception as e:\n",
    "                    print(f\"重试 {retry + 1}/{max_retries} - 文件 {filename} 第{idx + 1}段（页码：{page}）：{e}\")\n",
    "            else:\n",
    "                print(f\"错误 - 文件 {filename} 第{idx + 1}段（页码：{page}）：达到最大重试次数，无法获取有效数据\")\n",
    "\n",
    "    valid_results = []\n",
    "    for result in results:\n",
    "        question = result.get(\"question\", \"\").strip()\n",
    "        answer = result.get(\"answer\", \"\").strip()\n",
    "        if len(question) > 5 and len(answer) > 10:\n",
    "            valid_results.append(result)\n",
    "\n",
    "    with open(output_file, \"w\", encoding=\"utf-8\") as f:\n",
    "        json.dump(valid_results, f, ensure_ascii=False, indent=2)\n",
    "\n",
    "    print(f\"\\n成功保存 {len(valid_results)} 个高质量 QA 对到 {output_file}\")\n",
    "\n",
    "\n",
    "if __name__ == \"__main__\":\n",
    "    main()"
   ]
  },
  {
   "cell_type": "markdown",
   "id": "df53b0b4",
   "metadata": {},
   "source": [
    "！！！因为类型不成比例，换模型试试（豆包），效果：难度等级未出现困难等级，问题类型出现了两个怎么做，但依旧是什么最多"
   ]
  },
  {
   "cell_type": "code",
   "execution_count": 21,
   "id": "6444842a",
   "metadata": {},
   "outputs": [
    {
     "name": "stdout",
     "output_type": "stream",
     "text": [
      "JSON 解析错误: Invalid \\escape: line 8 column 64 (char 294)\n",
      "重试 1/2 - 文件 守护无间危疾保 保单条款_2022_07.md 第3段（页码：11）：无法解析 JSON\n",
      "JSON 解析错误: Invalid \\escape: line 8 column 64 (char 302)\n",
      "重试 2/2 - 文件 守护无间危疾保 保单条款_2022_07.md 第3段（页码：11）：无法解析 JSON\n",
      "错误 - 文件 守护无间危疾保 保单条款_2022_07.md 第3段（页码：11）：达到最大重试次数，无法获取有效数据\n",
      "JSON 解析错误: Invalid \\escape: line 8 column 70 (char 274)\n",
      "重试 1/2 - 文件 守护无间危疾保 保单条款_2022_07.md 第7段（页码：31）：无法解析 JSON\n",
      "JSON 解析错误: Invalid \\escape: line 8 column 70 (char 280)\n",
      "重试 2/2 - 文件 守护无间危疾保 保单条款_2022_07.md 第7段（页码：31）：无法解析 JSON\n",
      "错误 - 文件 守护无间危疾保 保单条款_2022_07.md 第7段（页码：31）：达到最大重试次数，无法获取有效数据\n",
      "\n",
      "成功保存 8 个高质量 QA 对到 D:\\火力全开的项目实践\\宏利 pdf 文件\\测试集\\data\\QA6(7)(352)(334)豆包.json\n"
     ]
    }
   ],
   "source": [
    "import os\n",
    "import json\n",
    "import re\n",
    "from openai import OpenAI\n",
    "\n",
    "\n",
    "class CHAT_MODEL:\n",
    "    def __init__(self, api_key, base_url, model_name):\n",
    "        self.llm = OpenAI(api_key=api_key, base_url=base_url)\n",
    "        self.model_name = model_name\n",
    "\n",
    "    def chat(self, user_prompt):\n",
    "        completion = self.llm.chat.completions.create(\n",
    "            model=self.model_name,\n",
    "            messages=[{\"role\": \"user\", \"content\": user_prompt}],\n",
    "        )\n",
    "        return completion.choices[0].message.content\n",
    "\n",
    "\n",
    "def extract_segments_with_page(md_text, max_segments=5, min_len=50):\n",
    "    # 使用页码标题分割，如 ## 第3页\n",
    "    page_splits = re.split(r'#+\\s*第\\s*(\\d+)\\s*页', md_text)\n",
    "    segments = []\n",
    "\n",
    "    if len(page_splits) <= 1:\n",
    "        # 如果没有页码标识，按整段分\n",
    "        raw_paragraphs = re.split(r'\\n\\s*\\n', md_text)\n",
    "        for para in raw_paragraphs:\n",
    "            para = para.strip()\n",
    "            if len(para) >= min_len:\n",
    "                segments.append((\"未知页码\", para))\n",
    "    else:\n",
    "        for i in range(1, len(page_splits), 2):\n",
    "            page = int(page_splits[i])\n",
    "            # 跳过第 0 页和第 1 页\n",
    "            if page in [0, 1,2]:\n",
    "                continue\n",
    "            content = page_splits[i + 1]\n",
    "            paragraphs = re.split(r'\\n\\s*\\n', content)\n",
    "            for para in paragraphs:\n",
    "                para = para.strip()\n",
    "                if len(para) >= min_len:\n",
    "                    segments.append((f\"{page}\", para))\n",
    "\n",
    "    total = len(segments)\n",
    "    if total <= max_segments:\n",
    "        return segments\n",
    "    step = total // max_segments\n",
    "    return [segments[i] for i in range(0, total, step)][:max_segments]\n",
    "\n",
    "\n",
    "def build_prompt(few_shot_examples, text_segment):\n",
    "    prompt = (\n",
    "        \"你是一个资深保险条款分析师，任务是基于以下多个保险文档内容，生成用户可能会提出的业务相关问题，并结合文档信息提供专业、准确、结构清晰的回答。\\n\\n\"\n",
    "        \"请根据以下文档内容，生成一个高质量的问题和答案对。问题应贴近实际业务场景，答案应清晰、信息丰富。\\n\\n\"\n",
    "        \"### 核心要求（保留您原有标准）\\n\"\n",
    "        \"1. 问题必须模拟真实用户的业务需求或疑问，例如理赔流程、免责条款、适用场景、利益比较等，不是简单的信息回述或定义解释。\\n\"\n",
    "        \"2. 答案可以综合多个文档片段的内容，但必须确保准确，逻辑严谨，不得凭空捏造。\\n\"\n",
    "        \"3. 回答中如引用到不同文档，请明确列出引用的文档名称与页码。\\n\\n\"\n",
    "        \"4. 问题属于三种难度等级的数量要尽量符合简单：中等：困难=3：5：2，问题的三种类型的数量要尽量符合是什么：为什么：怎么做=3：3：4。\\n\"\n",
    "        \"问题部分：围绕一个核心主题提出一个问题，语言表达应贴近用户常见问法，如：\\n\"\n",
    "        \"    - 什么是...？\\n\"\n",
    "        \"    - 是否可以说...？\\n\"\n",
    "        \"    - 请解释一下...的含义\\n\"\n",
    "        \"    - 如果...会怎样？\\n\"\n",
    "        \"    - 能否举个例子说明...？\\n\"\n",
    "        \"    - 为什么...会发生？\\n\"\n",
    "        \"    - ...的好处是什么？\\n\"\n",
    "        \"答案部分：逻辑清晰，内容完整。不得照抄原文，应体现理解和重组能力。\\n\\n\"\n",
    "        \"### 新增规范\\n\"\n",
    "        \"1. 问题类型标注：\\n\"\n",
    "        \"   ▸ 【是什么】定义解释类（如：什么是保单现金价值？）\\n\"\n",
    "        \"   ▸ 【为什么】原因分析类（如：为什么需要健康告知？）\\n\"\n",
    "        \"   ▸ 【怎么做】操作流程类（如：如何办理保单贷款？）\\n\\n\"\n",
    "        \"2. 难度等级标注：\\n\"\n",
    "        \"   ▸ 【简单】单概念问题（答案1-2句话）\\n\"\n",
    "        \"   ▸ 【中等】多要素问题（答案含步骤或条件）\\n\"\n",
    "        \"   ▸ 【困难】综合分析问题（需跨章节引用）\\n\\n\"\n",
    "        \"### 输出格式（升级版）\\n\"\n",
    "        \"```json\\n\"\n",
    "        \"{\\n\"\n",
    "        '  \"question\": \"问题内容（使用客户自然语言表达）\",\\n'\n",
    "        '  \"answer\": \"答案内容\",\\n'\n",
    "        '  \"qa_type\": \"是什么/为什么/怎么做\",\\n'\n",
    "        '  \"difficulty\": \"简单/中等/困难\",\\n'\n",
    "        '  \"source_file\": \"文档名称\",\\n'\n",
    "        '  \"page_num\": \"页码\",\\n'\n",
    "        '  \"content\": \"引用的原始文本片段\"\\n'\n",
    "        \"}\\n\"\n",
    "        \"```\\n\\n\"\n",
    "        \"### 参考案例\\n\"\n",
    "        \"【示例1-理赔场景】\\n\" + few_shot_examples[0] + \"\\n\\n\"\n",
    "        \"【示例2-条款解释】\\n\" + few_shot_examples[1] + \"\\n\\n\"\n",
    "        \"### 待分析内容\\n\"\n",
    "        f\"{text_segment}\\n\\n\"\n",
    "        \"请生成符合所有要求的JSON输出：\"\n",
    "    )\n",
    "    return prompt\n",
    "\n",
    "\n",
    "def parse_json(response):\n",
    "    lines = response.splitlines()\n",
    "    start_index = None\n",
    "    end_index = None\n",
    "    for i, line in enumerate(lines):\n",
    "        if '{' in line:\n",
    "            start_index = i\n",
    "        if '}' in line and start_index is not None:\n",
    "            end_index = i\n",
    "            break\n",
    "    if start_index is not None and end_index is not None:\n",
    "        json_str = '\\n'.join(lines[start_index:end_index + 1])\n",
    "        try:\n",
    "            return json.loads(json_str)\n",
    "        except json.JSONDecodeError as e:\n",
    "            print(f\"JSON 解析错误: {e}\")\n",
    "    return None\n",
    "\n",
    "\n",
    "def main():\n",
    "    input_folder = r\"D:\\火力全开的项目实践\\宏利 pdf 文件\\测试集\\data\\data\\(7)\"\n",
    "    output_file = r\"D:\\火力全开的项目实践\\宏利 pdf 文件\\测试集\\data\\QA6(7)(352)(334)豆包.json\"\n",
    "    qa_per_doc = 10\n",
    "    api_key = \"c751d97c-ba64-4a9a-afad-a0db5b88dc37\"\n",
    "    base_url = \"https://ark.cn-beijing.volces.com/api/v3\"\n",
    "    model_name = \"doubao-1-5-pro-32k-250115\"\n",
    "\n",
    "    chat_model = CHAT_MODEL(api_key=api_key, base_url=base_url, model_name=model_name)\n",
    "\n",
    "    few_shot_examples = [\n",
    "        '''{\n",
    "\"question\": \"投资相连寿险保单过了宽限期还没缴费会怎样？\",\n",
    "\"answer\": \"灵活投资宝/万利保障计划/宏宝保单将享有30日宽限期。若过后仍未缴费，客户会收到保单失效通知书，说明如何复效。\",\n",
    "\"source_file\": \"电子行政运作手册_保单行政_2023_10.md\",\n",
    "\"page_num\": \"6\",\n",
    "\"content\": \"投資相連壽險計劃保單...將享有30日的寬限期...\" }''',\n",
    "        '''{\n",
    "\"question\": \"什么情况下保险顾问的营业积分会被扣回？\",\n",
    "\"answer\": \"若某月结日的净已缴保费低于两个月前月结日的净已缴保费，保险顾问的积分将被扣回。\",\n",
    "\"source_file\": \"电子行政运作手册_保单行政_2023_10.md\",\n",
    "\"page_num\": \"7\",\n",
    "\"content\": \"於第一年淨保費測試...若（N）月結日的淨已繳保費 ≤（N–2）月結日...\" }'''\n",
    "    ]\n",
    "\n",
    "    results = []\n",
    "\n",
    "    for filename in os.listdir(input_folder):\n",
    "        if not filename.endswith(\".md\"):\n",
    "            continue\n",
    "        file_path = os.path.join(input_folder, filename)\n",
    "        with open(file_path, \"r\", encoding=\"utf-8\") as f:\n",
    "            content = f.read()\n",
    "\n",
    "        segments = extract_segments_with_page(content, max_segments=qa_per_doc)\n",
    "\n",
    "        for idx, (page, segment) in enumerate(segments):\n",
    "            prompt = build_prompt(few_shot_examples, segment)\n",
    "            max_retries =2\n",
    "            for retry in range(max_retries):\n",
    "                try:\n",
    "                    response = chat_model.chat(prompt)\n",
    "                    parsed = parse_json(response)\n",
    "                    if parsed is not None:\n",
    "                        parsed[\"source_file\"] = filename\n",
    "                        parsed[\"page_num\"] = page\n",
    "                        parsed[\"content\"] = segment\n",
    "                        results.append(parsed)\n",
    "                        break\n",
    "                    else:\n",
    "                        print(f\"重试 {retry + 1}/{max_retries} - 文件 {filename} 第{idx + 1}段（页码：{page}）：无法解析 JSON\")\n",
    "                except Exception as e:\n",
    "                    print(f\"重试 {retry + 1}/{max_retries} - 文件 {filename} 第{idx + 1}段（页码：{page}）：{e}\")\n",
    "            else:\n",
    "                print(f\"错误 - 文件 {filename} 第{idx + 1}段（页码：{page}）：达到最大重试次数，无法获取有效数据\")\n",
    "\n",
    "    valid_results = []\n",
    "    for result in results:\n",
    "        question = result.get(\"question\", \"\").strip()\n",
    "        answer = result.get(\"answer\", \"\").strip()\n",
    "        if len(question) > 5 and len(answer) > 10:\n",
    "            valid_results.append(result)\n",
    "\n",
    "    with open(output_file, \"w\", encoding=\"utf-8\") as f:\n",
    "        json.dump(valid_results, f, ensure_ascii=False, indent=2)\n",
    "\n",
    "    print(f\"\\n成功保存 {len(valid_results)} 个高质量 QA 对到 {output_file}\")\n",
    "\n",
    "\n",
    "if __name__ == \"__main__\":\n",
    "    main()"
   ]
  },
  {
   "cell_type": "markdown",
   "id": "477fec58",
   "metadata": {},
   "source": [
    "继续改提示词，为了增加问题类型，效果比改之前还不好，换了个内容多一点的文档跑，结果出现了两个怎么做类型，于是继续增多QA对数量（看是否是数量太少的原因），结果怎么做和是什么的比例还是1：4，可能是保单性质导致，同时难度等级未出现困难"
   ]
  },
  {
   "cell_type": "code",
   "execution_count": 26,
   "id": "48d6501b",
   "metadata": {},
   "outputs": [
    {
     "name": "stdout",
     "output_type": "stream",
     "text": [
      "\n",
      "成功保存 30 个高质量 QA 对到 D:\\火力全开的项目实践\\宏利 pdf 文件\\测试集\\data\\QA6(4)(352)(334)豆包2.json\n"
     ]
    }
   ],
   "source": [
    "import os\n",
    "import json\n",
    "import re\n",
    "from openai import OpenAI\n",
    "\n",
    "\n",
    "class CHAT_MODEL:\n",
    "    def __init__(self, api_key, base_url, model_name):\n",
    "        self.llm = OpenAI(api_key=api_key, base_url=base_url)\n",
    "        self.model_name = model_name\n",
    "\n",
    "    def chat(self, user_prompt):\n",
    "        completion = self.llm.chat.completions.create(\n",
    "            model=self.model_name,\n",
    "            messages=[{\"role\": \"user\", \"content\": user_prompt}],\n",
    "        )\n",
    "        return completion.choices[0].message.content\n",
    "\n",
    "\n",
    "def extract_segments_with_page(md_text, max_segments=5, min_len=50):\n",
    "    # 使用页码标题分割，如 ## 第3页\n",
    "    page_splits = re.split(r'#+\\s*第\\s*(\\d+)\\s*页', md_text)\n",
    "    segments = []\n",
    "\n",
    "    if len(page_splits) <= 1:\n",
    "        # 如果没有页码标识，按整段分\n",
    "        raw_paragraphs = re.split(r'\\n\\s*\\n', md_text)\n",
    "        for para in raw_paragraphs:\n",
    "            para = para.strip()\n",
    "            if len(para) >= min_len:\n",
    "                segments.append((\"未知页码\", para))\n",
    "    else:\n",
    "        for i in range(1, len(page_splits), 2):\n",
    "            page = int(page_splits[i])\n",
    "            # 跳过第 0 页和第 1 页\n",
    "            if page in [0, 1,2]:\n",
    "                continue\n",
    "            content = page_splits[i + 1]\n",
    "            paragraphs = re.split(r'\\n\\s*\\n', content)\n",
    "            for para in paragraphs:\n",
    "                para = para.strip()\n",
    "                if len(para) >= min_len:\n",
    "                    segments.append((f\"{page}\", para))\n",
    "\n",
    "    total = len(segments)\n",
    "    if total <= max_segments:\n",
    "        return segments\n",
    "    step = total // max_segments\n",
    "    return [segments[i] for i in range(0, total, step)][:max_segments]\n",
    "\n",
    "\n",
    "def build_prompt(few_shot_examples, text_segment):\n",
    "    prompt = (\n",
    "        \"你是一个资深保险条款分析师，任务是基于以下多个保险文档内容，生成用户可能会提出的业务相关问题，并结合文档信息提供专业、准确、结构清晰的回答。\\n\\n\"\n",
    "        \"请根据以下文档内容，生成一个高质量的问题和答案对。问题应贴近实际业务场景，答案应清晰、信息丰富。\\n\\n\"\n",
    "        \"### 核心要求（保留您原有标准）\\n\"\n",
    "        \"1. 问题必须模拟真实用户的业务需求或疑问，例如理赔流程、免责条款、适用场景、利益比较等，不是简单的信息回述或定义解释。\\n\"\n",
    "        \"2. 答案可以综合多个文档片段的内容，但必须确保准确，逻辑严谨，不得凭空捏造。\\n\"\n",
    "        \"3. 回答中如引用到不同文档，请明确列出引用的文档名称与页码。\\n\\n\"\n",
    "        \"4. 三种难度等级的问题的数量比例要符合简单：中等：困难=3：5：2。\\n\"\n",
    "        \"5. 三种类型问题的数量比例必须符合是什么：为什么：怎么做=3：3：4。\\n\"\n",
    "        \"问题部分：围绕一个核心主题提出一个问题，语言表达应贴近用户常见问法，如：\\n\"\n",
    "        \"    - 什么是...？\\n\"\n",
    "        \"    - 是否可以说...？\\n\"\n",
    "        \"    - 请解释一下...的含义\\n\"\n",
    "        \"    - 如果...会怎样？\\n\"\n",
    "        \"    - 如果...要怎么做？\\n\"\n",
    "        \"    - 如何...？\\n\"\n",
    "        \"    - 为什么...会发生？\\n\"\n",
    "        \"    - 为什么要...？\\n\"\n",
    "        \"    - ...的好处是什么？\\n\"\n",
    "        \"答案部分：逻辑清晰，内容完整。不得照抄原文，应体现理解和重组能力。\\n\\n\"\n",
    "        \"### 新增规范\\n\"\n",
    "        \"1. 问题类型标注：\\n\"\n",
    "        \"   ▸ 【是什么】定义解释类（如：什么是保单现金价值？）\\n\"\n",
    "        \"   ▸ 【为什么】原因分析类（如：为什么需要健康告知？）\\n\"\n",
    "        \"   ▸ 【怎么做】操作流程类（如：如何办理保单贷款？）\\n\\n\"\n",
    "        \"2. 难度等级标注：\\n\"\n",
    "        \"   ▸ 【简单】单概念问题\\n\"\n",
    "        \"   ▸ 【中等】多要素问题\\n\"\n",
    "        \"   ▸ 【困难】综合分析问题\\n\\n\"\n",
    "        \"### 输出格式（升级版）\\n\"\n",
    "        \"```json\\n\"\n",
    "        \"{\\n\"\n",
    "        '  \"question\": \"问题内容（使用客户自然语言表达）\",\\n'\n",
    "        '  \"answer\": \"答案内容\",\\n'\n",
    "        '  \"qa_type\": \"是什么/为什么/怎么做\",\\n'\n",
    "        '  \"difficulty\": \"简单/中等/困难\",\\n'\n",
    "        '  \"source_file\": \"文档名称\",\\n'\n",
    "        '  \"page_num\": \"页码\",\\n'\n",
    "        '  \"content\": \"引用的原始文本片段\"\\n'\n",
    "        \"}\\n\"\n",
    "        \"```\\n\\n\"\n",
    "        \"### 参考案例\\n\"\n",
    "        \"【示例1-理赔场景】\\n\" + few_shot_examples[0] + \"\\n\\n\"\n",
    "        \"【示例2-条款解释】\\n\" + few_shot_examples[1] + \"\\n\\n\"\n",
    "        \"### 待分析内容\\n\"\n",
    "        f\"{text_segment}\\n\\n\"\n",
    "        \"请生成符合所有要求的JSON输出：\"\n",
    "    )\n",
    "    return prompt\n",
    "\n",
    "\n",
    "def parse_json(response):\n",
    "    lines = response.splitlines()\n",
    "    start_index = None\n",
    "    end_index = None\n",
    "    for i, line in enumerate(lines):\n",
    "        if '{' in line:\n",
    "            start_index = i\n",
    "        if '}' in line and start_index is not None:\n",
    "            end_index = i\n",
    "            break\n",
    "    if start_index is not None and end_index is not None:\n",
    "        json_str = '\\n'.join(lines[start_index:end_index + 1])\n",
    "        try:\n",
    "            return json.loads(json_str)\n",
    "        except json.JSONDecodeError as e:\n",
    "            print(f\"JSON 解析错误: {e}\")\n",
    "    return None\n",
    "\n",
    "\n",
    "def main():\n",
    "    input_folder = r\"D:\\火力全开的项目实践\\宏利 pdf 文件\\测试集\\data\\data\\(4)\"\n",
    "    output_file = r\"D:\\火力全开的项目实践\\宏利 pdf 文件\\测试集\\data\\QA6(4)(352)(334)豆包2.json\"\n",
    "    qa_per_doc = 30\n",
    "    api_key = \"c751d97c-ba64-4a9a-afad-a0db5b88dc37\"\n",
    "    base_url = \"https://ark.cn-beijing.volces.com/api/v3\"\n",
    "    model_name = \"doubao-1-5-pro-32k-250115\"\n",
    "\n",
    "    chat_model = CHAT_MODEL(api_key=api_key, base_url=base_url, model_name=model_name)\n",
    "\n",
    "    few_shot_examples = [\n",
    "        '''{\n",
    "\"question\": \"投资相连寿险保单过了宽限期还没缴费会怎样？\",\n",
    "\"answer\": \"灵活投资宝/万利保障计划/宏宝保单将享有30日宽限期。若过后仍未缴费，客户会收到保单失效通知书，说明如何复效。\",\n",
    "\"source_file\": \"电子行政运作手册_保单行政_2023_10.md\",\n",
    "\"page_num\": \"6\",\n",
    "\"content\": \"投資相連壽險計劃保單...將享有30日的寬限期...\" }''',\n",
    "        '''{\n",
    "\"question\": \"什么情况下保险顾问的营业积分会被扣回？\",\n",
    "\"answer\": \"若某月结日的净已缴保费低于两个月前月结日的净已缴保费，保险顾问的积分将被扣回。\",\n",
    "\"source_file\": \"电子行政运作手册_保单行政_2023_10.md\",\n",
    "\"page_num\": \"7\",\n",
    "\"content\": \"於第一年淨保費測試...若（N）月結日的淨已繳保費 ≤（N–2）月結日...\" }'''\n",
    "    ]\n",
    "\n",
    "    results = []\n",
    "\n",
    "    for filename in os.listdir(input_folder):\n",
    "        if not filename.endswith(\".md\"):\n",
    "            continue\n",
    "        file_path = os.path.join(input_folder, filename)\n",
    "        with open(file_path, \"r\", encoding=\"utf-8\") as f:\n",
    "            content = f.read()\n",
    "\n",
    "        segments = extract_segments_with_page(content, max_segments=qa_per_doc)\n",
    "\n",
    "        for idx, (page, segment) in enumerate(segments):\n",
    "            prompt = build_prompt(few_shot_examples, segment)\n",
    "            max_retries =2\n",
    "            for retry in range(max_retries):\n",
    "                try:\n",
    "                    response = chat_model.chat(prompt)\n",
    "                    parsed = parse_json(response)\n",
    "                    if parsed is not None:\n",
    "                        parsed[\"source_file\"] = filename\n",
    "                        parsed[\"page_num\"] = page\n",
    "                        parsed[\"content\"] = segment\n",
    "                        results.append(parsed)\n",
    "                        break\n",
    "                    else:\n",
    "                        print(f\"重试 {retry + 1}/{max_retries} - 文件 {filename} 第{idx + 1}段（页码：{page}）：无法解析 JSON\")\n",
    "                except Exception as e:\n",
    "                    print(f\"重试 {retry + 1}/{max_retries} - 文件 {filename} 第{idx + 1}段（页码：{page}）：{e}\")\n",
    "            else:\n",
    "                print(f\"错误 - 文件 {filename} 第{idx + 1}段（页码：{page}）：达到最大重试次数，无法获取有效数据\")\n",
    "\n",
    "    valid_results = []\n",
    "    for result in results:\n",
    "        question = result.get(\"question\", \"\").strip()\n",
    "        answer = result.get(\"answer\", \"\").strip()\n",
    "        if len(question) > 5 and len(answer) > 10:\n",
    "            valid_results.append(result)\n",
    "\n",
    "    with open(output_file, \"w\", encoding=\"utf-8\") as f:\n",
    "        json.dump(valid_results, f, ensure_ascii=False, indent=2)\n",
    "\n",
    "    print(f\"\\n成功保存 {len(valid_results)} 个高质量 QA 对到 {output_file}\")\n",
    "\n",
    "\n",
    "if __name__ == \"__main__\":\n",
    "    main()"
   ]
  },
  {
   "cell_type": "markdown",
   "id": "be55830b",
   "metadata": {},
   "source": [
    "增加进度条，丰富提示词，统计数量，模型：deepseek-r1\n",
    "报错后想到大模型计数能力不好，统计数量还是等QA对生成后再另外统计"
   ]
  },
  {
   "cell_type": "code",
   "execution_count": 13,
   "id": "d9d26b6a",
   "metadata": {},
   "outputs": [
    {
     "name": "stderr",
     "output_type": "stream",
     "text": [
      "📄 处理文档:   0%|          | 0/1 [00:00<?, ?it/s]"
     ]
    },
    {
     "name": "stdout",
     "output_type": "stream",
     "text": [
      "JSON解析失败（已尝试清理）: Expecting value: line 1 column 1 (char 0)...\n",
      "重试 1/2 - 文件 守护无间危疾保 保单条款_2022_07.md 第1段（页码：3）：无法解析 JSON\n"
     ]
    },
    {
     "name": "stderr",
     "output_type": "stream",
     "text": []
    },
    {
     "name": "stdout",
     "output_type": "stream",
     "text": [
      "JSON解析失败（已尝试清理）: Expecting value: line 1 column 1 (char 0)...\n",
      "重试 2/2 - 文件 守护无间危疾保 保单条款_2022_07.md 第1段（页码：3）：无法解析 JSON\n",
      "错误 - 文件 守护无间危疾保 保单条款_2022_07.md 第1段（页码：3）：达到最大重试次数，无法获取有效数据\n",
      "JSON解析失败（已尝试清理）: Expecting value: line 1 column 1 (char 0)...\n",
      "重试 1/2 - 文件 守护无间危疾保 保单条款_2022_07.md 第2段（页码：7）：无法解析 JSON\n"
     ]
    },
    {
     "name": "stderr",
     "output_type": "stream",
     "text": []
    },
    {
     "name": "stdout",
     "output_type": "stream",
     "text": [
      "JSON解析失败（已尝试清理）: Expecting value: line 1 column 1 (char 0)...\n",
      "重试 2/2 - 文件 守护无间危疾保 保单条款_2022_07.md 第2段（页码：7）：无法解析 JSON\n",
      "错误 - 文件 守护无间危疾保 保单条款_2022_07.md 第2段（页码：7）：达到最大重试次数，无法获取有效数据\n",
      "JSON解析失败（已尝试清理）: Expecting value: line 1 column 1 (char 0)...\n",
      "重试 1/2 - 文件 守护无间危疾保 保单条款_2022_07.md 第3段（页码：11）：无法解析 JSON\n"
     ]
    },
    {
     "name": "stderr",
     "output_type": "stream",
     "text": []
    },
    {
     "name": "stdout",
     "output_type": "stream",
     "text": [
      "JSON解析失败（已尝试清理）: Expecting value: line 1 column 1 (char 0)...\n",
      "重试 2/2 - 文件 守护无间危疾保 保单条款_2022_07.md 第3段（页码：11）：无法解析 JSON\n",
      "错误 - 文件 守护无间危疾保 保单条款_2022_07.md 第3段（页码：11）：达到最大重试次数，无法获取有效数据\n",
      "JSON解析失败（已尝试清理）: Expecting value: line 1 column 1 (char 0)...\n",
      "重试 1/2 - 文件 守护无间危疾保 保单条款_2022_07.md 第4段（页码：15）：无法解析 JSON\n"
     ]
    },
    {
     "name": "stderr",
     "output_type": "stream",
     "text": []
    },
    {
     "name": "stdout",
     "output_type": "stream",
     "text": [
      "JSON解析失败（已尝试清理）: Expecting value: line 1 column 1 (char 0)...\n",
      "重试 2/2 - 文件 守护无间危疾保 保单条款_2022_07.md 第4段（页码：15）：无法解析 JSON\n",
      "错误 - 文件 守护无间危疾保 保单条款_2022_07.md 第4段（页码：15）：达到最大重试次数，无法获取有效数据\n",
      "JSON解析失败（已尝试清理）: Expecting value: line 1 column 1 (char 0)...\n",
      "重试 1/2 - 文件 守护无间危疾保 保单条款_2022_07.md 第5段（页码：20）：无法解析 JSON\n"
     ]
    },
    {
     "name": "stderr",
     "output_type": "stream",
     "text": []
    },
    {
     "name": "stdout",
     "output_type": "stream",
     "text": [
      "JSON解析失败（已尝试清理）: Expecting value: line 1 column 1 (char 0)...\n",
      "重试 2/2 - 文件 守护无间危疾保 保单条款_2022_07.md 第5段（页码：20）：无法解析 JSON\n",
      "错误 - 文件 守护无间危疾保 保单条款_2022_07.md 第5段（页码：20）：达到最大重试次数，无法获取有效数据\n",
      "JSON解析失败（已尝试清理）: Expecting value: line 1 column 1 (char 0)...\n",
      "重试 1/2 - 文件 守护无间危疾保 保单条款_2022_07.md 第6段（页码：25）：无法解析 JSON\n"
     ]
    },
    {
     "name": "stderr",
     "output_type": "stream",
     "text": []
    },
    {
     "name": "stdout",
     "output_type": "stream",
     "text": [
      "JSON解析失败（已尝试清理）: Expecting value: line 1 column 1 (char 0)...\n",
      "重试 2/2 - 文件 守护无间危疾保 保单条款_2022_07.md 第6段（页码：25）：无法解析 JSON\n",
      "错误 - 文件 守护无间危疾保 保单条款_2022_07.md 第6段（页码：25）：达到最大重试次数，无法获取有效数据\n",
      "JSON解析失败（已尝试清理）: Expecting value: line 1 column 1 (char 0)...\n",
      "重试 1/2 - 文件 守护无间危疾保 保单条款_2022_07.md 第7段（页码：31）：无法解析 JSON\n"
     ]
    },
    {
     "name": "stderr",
     "output_type": "stream",
     "text": []
    },
    {
     "name": "stdout",
     "output_type": "stream",
     "text": [
      "JSON解析失败（已尝试清理）: Expecting value: line 1 column 1 (char 0)...\n",
      "重试 2/2 - 文件 守护无间危疾保 保单条款_2022_07.md 第7段（页码：31）：无法解析 JSON\n",
      "错误 - 文件 守护无间危疾保 保单条款_2022_07.md 第7段（页码：31）：达到最大重试次数，无法获取有效数据\n",
      "JSON解析失败（已尝试清理）: Expecting value: line 1 column 1 (char 0)...\n",
      "重试 1/2 - 文件 守护无间危疾保 保单条款_2022_07.md 第8段（页码：34）：无法解析 JSON\n"
     ]
    },
    {
     "name": "stderr",
     "output_type": "stream",
     "text": []
    },
    {
     "name": "stdout",
     "output_type": "stream",
     "text": [
      "JSON解析失败（已尝试清理）: Expecting value: line 1 column 1 (char 0)...\n",
      "重试 2/2 - 文件 守护无间危疾保 保单条款_2022_07.md 第8段（页码：34）：无法解析 JSON\n",
      "错误 - 文件 守护无间危疾保 保单条款_2022_07.md 第8段（页码：34）：达到最大重试次数，无法获取有效数据\n",
      "JSON解析失败（已尝试清理）: Expecting value: line 1 column 1 (char 0)...\n",
      "重试 1/2 - 文件 守护无间危疾保 保单条款_2022_07.md 第9段（页码：37）：无法解析 JSON\n"
     ]
    },
    {
     "name": "stderr",
     "output_type": "stream",
     "text": []
    },
    {
     "name": "stdout",
     "output_type": "stream",
     "text": [
      "JSON解析失败（已尝试清理）: Expecting value: line 1 column 1 (char 0)...\n",
      "重试 2/2 - 文件 守护无间危疾保 保单条款_2022_07.md 第9段（页码：37）：无法解析 JSON\n",
      "错误 - 文件 守护无间危疾保 保单条款_2022_07.md 第9段（页码：37）：达到最大重试次数，无法获取有效数据\n",
      "JSON解析失败（已尝试清理）: Expecting value: line 1 column 1 (char 0)...\n",
      "重试 1/2 - 文件 守护无间危疾保 保单条款_2022_07.md 第10段（页码：41）：无法解析 JSON\n"
     ]
    },
    {
     "name": "stderr",
     "output_type": "stream",
     "text": [
      "📄 处理文档: 100%|██████████| 1/1 [14:56<00:00, 896.25s/it]"
     ]
    },
    {
     "name": "stdout",
     "output_type": "stream",
     "text": [
      "JSON解析失败（已尝试清理）: Expecting value: line 1 column 1 (char 0)...\n",
      "重试 2/2 - 文件 守护无间危疾保 保单条款_2022_07.md 第10段（页码：41）：无法解析 JSON\n",
      "错误 - 文件 守护无间危疾保 保单条款_2022_07.md 第10段（页码：41）：达到最大重试次数，无法获取有效数据\n",
      "\n",
      "⚠️ 警告：未生成任何有效的QA对\n",
      "可能原因：\n",
      "- API返回数据格式不正确\n",
      "- 文档内容不符合要求\n",
      "- 网络或API连接问题\n"
     ]
    },
    {
     "name": "stderr",
     "output_type": "stream",
     "text": [
      "\n"
     ]
    }
   ],
   "source": [
    "import os\n",
    "import json\n",
    "import re\n",
    "from openai import OpenAI\n",
    "from tqdm import tqdm\n",
    "\n",
    "class CHAT_MODEL:\n",
    "    def __init__(self, api_key, base_url, model_name):\n",
    "        self.llm = OpenAI(api_key=api_key, base_url=base_url)\n",
    "        self.model_name = model_name\n",
    "\n",
    "    def chat(self, user_prompt):\n",
    "        completion = self.llm.chat.completions.create(\n",
    "            model=self.model_name,\n",
    "            messages=[{\"role\": \"user\", \"content\": user_prompt}],\n",
    "        )\n",
    "        return completion.choices[0].message.content\n",
    "\n",
    "\n",
    "def extract_segments_with_page(md_text, max_segments=5, min_len=50):\n",
    "    # 使用页码标题分割，如 ## 第3页\n",
    "    page_splits = re.split(r'#+\\s*第\\s*(\\d+)\\s*页', md_text)\n",
    "    segments = []\n",
    "\n",
    "    if len(page_splits) <= 1:\n",
    "        # 如果没有页码标识，按整段分\n",
    "        raw_paragraphs = re.split(r'\\n\\s*\\n', md_text)\n",
    "        for para in raw_paragraphs:\n",
    "            para = para.strip()\n",
    "            if len(para) >= min_len:\n",
    "                segments.append((\"未知页码\", para))\n",
    "    else:\n",
    "        for i in range(1, len(page_splits), 2):\n",
    "            page = int(page_splits[i])\n",
    "            # 跳过第 0 页和第 1 页\n",
    "            if page in [0, 1,2]:\n",
    "                continue\n",
    "            content = page_splits[i + 1]\n",
    "            paragraphs = re.split(r'\\n\\s*\\n', content)\n",
    "            for para in paragraphs:\n",
    "                para = para.strip()\n",
    "                if len(para) >= min_len:\n",
    "                    segments.append((f\"{page}\", para))\n",
    "\n",
    "    total = len(segments)\n",
    "    if total <= max_segments:\n",
    "        return segments\n",
    "    step = total // max_segments\n",
    "    return [segments[i] for i in range(0, total, step)][:max_segments]\n",
    "\n",
    "\n",
    "def build_prompt(few_shot_examples, text_segment):\n",
    "    prompt = (\n",
    "        \"你是一个资深保险条款分析师，任务是基于以下多个保险文档内容，生成用户可能会提出的业务相关问题，并结合文档信息提供专业、准确、结构清晰的回答。\\n\\n\"\n",
    "        \"请根据以下文档内容，生成一个高质量的问题和答案对。问题应贴近实际业务场景，答案应清晰、信息丰富。\\n\\n\"\n",
    "        \"### 核心要求（保留您原有标准）\\n\"\n",
    "        \"1. 问题必须模拟真实用户的业务需求或疑问，例如理赔流程、免责条款、适用场景、利益比较等，不是简单的信息回述或定义解释。\\n\"\n",
    "        \"2. 答案可以综合多个文档片段的内容，但必须确保准确，逻辑严谨，不得凭空捏造。\\n\"\n",
    "        \"3. 回答中如引用到不同文档，请明确列出引用的文档名称与页码。\\n\\n\"\n",
    "        \"问题部分：围绕一个核心主题提出一个问题，语言表达应贴近用户常见问法，如：\\n\"\n",
    "        \"    - 什么是...？\\n\"\n",
    "        \"    - 是否可以说...？\\n\"\n",
    "        \"    - 请解释一下...的含义\\n\"\n",
    "        \"    - 如果...会怎样？\\n\"\n",
    "        \"    - 能否举个例子说明...？\\n\"\n",
    "        \"    - 为什么...会发生？\\n\"\n",
    "        \"    - ...的好处是什么？\\n\"\n",
    "        \"答案部分：逻辑清晰，内容完整。不得照抄原文，应体现理解和重组能力。\\n\\n\"\n",
    "        \"### 新增规范\\n\"\n",
    "        \"1. 问题类型标注（必须三选一）：\\n\"\n",
    "        \"   ▸ 【是什么】定义解释类（如：什么是保单现金价值？）\\n\"\n",
    "        \"   ▸ 【为什么】原因分析类（如：为什么需要健康告知？）\\n\"\n",
    "        \"   ▸ 【怎么做】操作流程类（如：如何办理保单贷款？）\\n\\n\"\n",
    "        \"2. 难度等级标注（必须三选一）：\\n\"\n",
    "        \"   ▸ 【简单】单概念问题（答案1-2句话）\\n\"\n",
    "        \"   ▸ 【中等】多要素问题（答案含步骤或条件）\\n\"\n",
    "        \"   ▸ 【困难】综合分析问题（需跨章节引用）\\n\\n\"\n",
    "        \"### 输出格式（升级版）\\n\"\n",
    "        \"```json\\n\"\n",
    "        \"{\\n\"\n",
    "        '  \"question\": \"问题内容（使用客户自然语言表达）\",\\n'\n",
    "        '  \"answer\": \"答案内容\",\\n'\n",
    "        '  \"qa_type\": \"是什么/为什么/怎么做\",\\n'\n",
    "        '  \"difficulty\": \"简单/中等/困难\",\\n'\n",
    "        '  \"source_file\": \"文档名称\",\\n'\n",
    "        '  \"page_num\": \"页码\",\\n'\n",
    "        '  \"content\": \"引用的原始文本片段\"\\n'\n",
    "        \"}\\n\"\n",
    "        \"```\\n\\n\"\n",
    "        \"### 参考案例\\n\"\n",
    "        \"【示例1-理赔场景】\\n\" + few_shot_examples[0] + \"\\n\\n\"\n",
    "        \"【示例2-条款解释】\\n\" + few_shot_examples[1] + \"\\n\\n\"\n",
    "        \"### 待分析内容\\n\"\n",
    "        f\"{text_segment}\\n\\n\"\n",
    "        \"请生成符合所有要求的JSON输出：\"\n",
    "    )\n",
    "    return prompt\n",
    "\n",
    "\n",
    "def parse_json(response):\n",
    "    try:\n",
    "        # 先尝试直接解析\n",
    "        return json.loads(response)\n",
    "    except json.JSONDecodeError:\n",
    "        try:\n",
    "            # 如果失败，尝试清理非法字符\n",
    "            cleaned = re.sub(r'[\\x00-\\x1f\\x7f-\\x9f]', '', response)\n",
    "            cleaned = re.sub(r'\\\\[^\"\\\\/bfnrtu]', r'\\\\\\\\', cleaned)  # 修复非法转义\n",
    "            return json.loads(cleaned)\n",
    "        except json.JSONDecodeError as e:\n",
    "            print(f\"JSON解析失败（已尝试清理）: {str(e)[:100]}...\")\n",
    "            return None\n",
    "\n",
    "\n",
    "def main():\n",
    "    input_folder = r\"D:\\火力全开的项目实践\\宏利 pdf 文件\\测试集\\data\\data\\(7)\"\n",
    "    output_file = r\"D:\\火力全开的项目实践\\宏利 pdf 文件\\测试集\\data\\QA6(7).json\"\n",
    "    qa_per_doc = 10\n",
    "    api_key = \"c751d97c-ba64-4a9a-afad-a0db5b88dc37\"\n",
    "    base_url = \"https://ark.cn-beijing.volces.com/api/v3\"\n",
    "    model_name = \"deepseek-r1-distill-qwen-32b-250120\"\n",
    "\n",
    "    chat_model = CHAT_MODEL(api_key=api_key, base_url=base_url, model_name=model_name)\n",
    "\n",
    "    few_shot_examples = [\n",
    "        '''{\n",
    "\"question\": \"投资相连寿险保单过了宽限期还没缴费会怎样？\",\n",
    "\"answer\": \"灵活投资宝/万利保障计划/宏宝保单将享有30日宽限期。若过后仍未缴费，客户会收到保单失效通知书，说明如何复效。\",\n",
    "\"source_file\": \"电子行政运作手册_保单行政_2023_10.md\",\n",
    "\"page_num\": \"6\",\n",
    "\"content\": \"投資相連壽險計劃保單...將享有30日的寬限期...\" }''',\n",
    "        '''{\n",
    "\"question\": \"什么情况下保险顾问的营业积分会被扣回？\",\n",
    "\"answer\": \"若某月结日的净已缴保费低于两个月前月结日的净已缴保费，保险顾问的积分将被扣回。\",\n",
    "\"source_file\": \"电子行政运作手册_保单行政_2023_10.md\",\n",
    "\"page_num\": \"7\",\n",
    "\"content\": \"於第一年淨保費測試...若（N）月結日的淨已繳保費 ≤（N–2）月結日...\" }'''\n",
    "    ]\n",
    "\n",
    "    results = []\n",
    "\n",
    "    md_files = [f for f in os.listdir(input_folder) if f.endswith(\".md\")]\n",
    "    \n",
    "    for filename in tqdm(md_files, desc=\"📄 处理文档\"):\n",
    "        file_path = os.path.join(input_folder, filename)\n",
    "        with open(file_path, \"r\", encoding=\"utf-8\") as f:\n",
    "            content = f.read()\n",
    "\n",
    "        segments = extract_segments_with_page(content, max_segments=qa_per_doc)\n",
    "\n",
    "        for idx, (page, segment) in enumerate(tqdm(segments, desc=f\"📝 {filename[:15]}...\", leave=False)):\n",
    "            prompt = build_prompt(few_shot_examples, segment)\n",
    "            max_retries =2\n",
    "            for retry in range(max_retries):\n",
    "                try:\n",
    "                    response = chat_model.chat(prompt)\n",
    "                    parsed = parse_json(response)\n",
    "                    if parsed is not None:\n",
    "                        parsed[\"source_file\"] = filename\n",
    "                        parsed[\"page_num\"] = page\n",
    "                        parsed[\"content\"] = segment\n",
    "                        results.append(parsed)\n",
    "                        break\n",
    "                    else:\n",
    "                        print(f\"重试 {retry + 1}/{max_retries} - 文件 {filename} 第{idx + 1}段（页码：{page}）：无法解析 JSON\")\n",
    "                except Exception as e:\n",
    "                    print(f\"重试 {retry + 1}/{max_retries} - 文件 {filename} 第{idx + 1}段（页码：{page}）：{e}\")\n",
    "            else:\n",
    "                print(f\"错误 - 文件 {filename} 第{idx + 1}段（页码：{page}）：达到最大重试次数，无法获取有效数据\")\n",
    "\n",
    "    valid_results = []\n",
    "    with open(output_file, \"w\", encoding=\"utf-8\") as f:\n",
    "        json.dump(valid_results, f, ensure_ascii=False, indent=2)\n",
    "\n",
    "    # 新增难度统计功能\n",
    "    if not valid_results:\n",
    "        print(\"\\n⚠️ 警告：未生成任何有效的QA对\")\n",
    "        print(\"可能原因：\")\n",
    "        print(\"- API返回数据格式不正确\")\n",
    "        print(\"- 文档内容不符合要求\")\n",
    "        print(\"- 网络或API连接问题\")\n",
    "        return\n",
    "\n",
    "    difficulty_stats = {\n",
    "        \"简单\": 0,\n",
    "        \"中等\": 0,\n",
    "        \"困难\": 0\n",
    "    }\n",
    "    \n",
    "    qa_type_stats = {\n",
    "        \"是什么\": 0,\n",
    "        \"为什么\": 0,\n",
    "        \"怎么做\": 0\n",
    "    }\n",
    "\n",
    "    for result in valid_results:\n",
    "        difficulty_stats[result.get(\"difficulty\", \"\")] += 1\n",
    "        qa_type_stats[result.get(\"qa_type\", \"\")] += 1\n",
    "\n",
    "    print(\"\\n\" + \"=\"*50)\n",
    "    print(\"QA对生成统计报告:\")\n",
    "    print(\"-\"*50)\n",
    "    print(\"难度等级分布:\")\n",
    "    for level, count in difficulty_stats.items():\n",
    "        print(f\"  {level}: {count}个 ({count/len(valid_results)*100:.1f}%)\")\n",
    "    \n",
    "    print(\"\\n问题类型分布:\")\n",
    "    for qa_type, count in qa_type_stats.items():\n",
    "        print(f\"  {qa_type}: {count}个 ({count/len(valid_results)*100:.1f}%)\")\n",
    "    print(\"=\"*50)\n",
    "\n",
    "    #print(\"\\n质量检查:\")\n",
    "    #print(f\"  有效QA对总数: {len(valid_results)}\")\n",
    "    #print(f\"  平均每文档生成: {len(valid_results)/len(md_files):.1f}个QA对\")\n",
    "    #print(\"=\"*50)\n",
    "\n",
    "    print(f\"\\n成功保存 {len(valid_results)} 个高质量 QA 对到 {output_file}\")\n",
    "\n",
    "\n",
    "if __name__ == \"__main__\":\n",
    "    main()"
   ]
  }
 ],
 "metadata": {
  "kernelspec": {
   "display_name": "base",
   "language": "python",
   "name": "python3"
  },
  "language_info": {
   "codemirror_mode": {
    "name": "ipython",
    "version": 3
   },
   "file_extension": ".py",
   "mimetype": "text/x-python",
   "name": "python",
   "nbconvert_exporter": "python",
   "pygments_lexer": "ipython3",
   "version": "3.12.3"
  }
 },
 "nbformat": 4,
 "nbformat_minor": 5
}
